{
  "nbformat": 4,
  "nbformat_minor": 0,
  "metadata": {
    "colab": {
      "name": "Complete.ipynb",
      "provenance": []
    },
    "kernelspec": {
      "name": "python3",
      "display_name": "Python 3"
    },
    "language_info": {
      "name": "python"
    }
  },
  "cells": [
    {
      "cell_type": "code",
      "metadata": {
        "id": "Dft0DHdpAblg"
      },
      "source": [
        "import pandas as pd\n",
        "import numpy as np\n",
        "import matplotlib.pyplot as plt\n",
        "import seaborn as sns"
      ],
      "execution_count": null,
      "outputs": []
    },
    {
      "cell_type": "code",
      "metadata": {
        "id": "yMNfgXtkAqtG"
      },
      "source": [
        "data = pd.read_excel('/content/fdb.xls')"
      ],
      "execution_count": null,
      "outputs": []
    },
    {
      "cell_type": "code",
      "metadata": {
        "colab": {
          "base_uri": "https://localhost:8080/",
          "height": 442
        },
        "id": "k_Z7CVf6At5c",
        "outputId": "22dbe062-60ed-4838-e55a-d79aec2c2c4c"
      },
      "source": [
        "data.head()"
      ],
      "execution_count": null,
      "outputs": [
        {
          "output_type": "execute_result",
          "data": {
            "text/html": [
              "<div>\n",
              "<style scoped>\n",
              "    .dataframe tbody tr th:only-of-type {\n",
              "        vertical-align: middle;\n",
              "    }\n",
              "\n",
              "    .dataframe tbody tr th {\n",
              "        vertical-align: top;\n",
              "    }\n",
              "\n",
              "    .dataframe thead th {\n",
              "        text-align: right;\n",
              "    }\n",
              "</style>\n",
              "<table border=\"1\" class=\"dataframe\">\n",
              "  <thead>\n",
              "    <tr style=\"text-align: right;\">\n",
              "      <th></th>\n",
              "      <th>Listing_Office_Office_Name</th>\n",
              "      <th>List Agent_Agent Name</th>\n",
              "      <th>Price</th>\n",
              "      <th>Status</th>\n",
              "      <th>Address</th>\n",
              "      <th>City</th>\n",
              "      <th>MLS #</th>\n",
              "      <th>Property_Type</th>\n",
              "      <th>State</th>\n",
              "      <th>County</th>\n",
              "      <th>Date - MLS List</th>\n",
              "      <th>Bedrooms _Total</th>\n",
              "      <th>Baths _Total</th>\n",
              "      <th>SqFtTotFn</th>\n",
              "      <th>DOM</th>\n",
              "      <th>Assessment_Amount</th>\n",
              "      <th>Assessment_Year</th>\n",
              "      <th>Price _Closed</th>\n",
              "      <th>Price_List</th>\n",
              "      <th>PicCount</th>\n",
              "      <th>Price_Original</th>\n",
              "      <th>Tax - Gross Amount</th>\n",
              "      <th>Date - Closed</th>\n",
              "      <th>Lot - Acres</th>\n",
              "      <th>Garage Type</th>\n",
              "      <th>Year Built</th>\n",
              "      <th>Total Stories</th>\n",
              "      <th>Surveyed</th>\n",
              "      <th>Showing Service</th>\n",
              "      <th>Seasonal</th>\n",
              "      <th>Water Body Type</th>\n",
              "      <th>Water Frontage Length</th>\n",
              "      <th>Short Sale</th>\n",
              "      <th>Rooms - Total</th>\n",
              "      <th>Rented</th>\n",
              "      <th>Garage Capacity</th>\n",
              "      <th>Garage</th>\n",
              "      <th>Foreclosed/Bank-Owned/REO</th>\n",
              "      <th>Flood Zone</th>\n",
              "      <th>Easements</th>\n",
              "      <th>Development / Subdivision</th>\n",
              "      <th>Current Use</th>\n",
              "      <th>Covenants</th>\n",
              "      <th>Common Land Acres</th>\n",
              "      <th>Basement Access Type</th>\n",
              "      <th>Basement</th>\n",
              "    </tr>\n",
              "  </thead>\n",
              "  <tbody>\n",
              "    <tr>\n",
              "      <th>0</th>\n",
              "      <td>Granite Northland Associates</td>\n",
              "      <td>Doreen Wyman</td>\n",
              "      <td>198500</td>\n",
              "      <td>CL</td>\n",
              "      <td>668 NH ROUTE 118</td>\n",
              "      <td>Canaan</td>\n",
              "      <td>4043956</td>\n",
              "      <td>Single Family</td>\n",
              "      <td>NH</td>\n",
              "      <td>NH-Grafton</td>\n",
              "      <td>2011-02-08</td>\n",
              "      <td>3</td>\n",
              "      <td>2</td>\n",
              "      <td>1144.0</td>\n",
              "      <td>520</td>\n",
              "      <td>NaN</td>\n",
              "      <td>2010.0</td>\n",
              "      <td>198500</td>\n",
              "      <td>199900</td>\n",
              "      <td>18</td>\n",
              "      <td>229900</td>\n",
              "      <td>4292</td>\n",
              "      <td>2012-08-23</td>\n",
              "      <td>1.09</td>\n",
              "      <td>NaN</td>\n",
              "      <td>2007.0</td>\n",
              "      <td>1</td>\n",
              "      <td>Yes</td>\n",
              "      <td>NaN</td>\n",
              "      <td>No</td>\n",
              "      <td>NaN</td>\n",
              "      <td>NaN</td>\n",
              "      <td>NaN</td>\n",
              "      <td>5</td>\n",
              "      <td>NaN</td>\n",
              "      <td>0.0</td>\n",
              "      <td>No</td>\n",
              "      <td>NaN</td>\n",
              "      <td>No</td>\n",
              "      <td>NaN</td>\n",
              "      <td>NaN</td>\n",
              "      <td>No</td>\n",
              "      <td>No</td>\n",
              "      <td>NaN</td>\n",
              "      <td>Walkout</td>\n",
              "      <td>Yes</td>\n",
              "    </tr>\n",
              "    <tr>\n",
              "      <th>1</th>\n",
              "      <td>Vanessa Stone Real Estate</td>\n",
              "      <td>Vanessa Stone</td>\n",
              "      <td>130000</td>\n",
              "      <td>CL</td>\n",
              "      <td>157 Follensbee Rd</td>\n",
              "      <td>Canaan</td>\n",
              "      <td>4090057</td>\n",
              "      <td>Single Family</td>\n",
              "      <td>NH</td>\n",
              "      <td>NH-Grafton</td>\n",
              "      <td>2011-08-29</td>\n",
              "      <td>4</td>\n",
              "      <td>2</td>\n",
              "      <td>2304.0</td>\n",
              "      <td>275</td>\n",
              "      <td>146100.0</td>\n",
              "      <td>NaN</td>\n",
              "      <td>130000</td>\n",
              "      <td>139900</td>\n",
              "      <td>8</td>\n",
              "      <td>145000</td>\n",
              "      <td>3410</td>\n",
              "      <td>2012-06-29</td>\n",
              "      <td>1.00</td>\n",
              "      <td>NaN</td>\n",
              "      <td>1973.0</td>\n",
              "      <td>2</td>\n",
              "      <td>Unknown</td>\n",
              "      <td>NaN</td>\n",
              "      <td>No</td>\n",
              "      <td>NaN</td>\n",
              "      <td>NaN</td>\n",
              "      <td>NaN</td>\n",
              "      <td>8</td>\n",
              "      <td>NaN</td>\n",
              "      <td>0.0</td>\n",
              "      <td>No</td>\n",
              "      <td>NaN</td>\n",
              "      <td>No</td>\n",
              "      <td>NaN</td>\n",
              "      <td>NaN</td>\n",
              "      <td>No</td>\n",
              "      <td>No</td>\n",
              "      <td>NaN</td>\n",
              "      <td>Walkout</td>\n",
              "      <td>Yes</td>\n",
              "    </tr>\n",
              "    <tr>\n",
              "      <th>2</th>\n",
              "      <td>Vanessa Stone Real Estate</td>\n",
              "      <td>Vanessa Stone</td>\n",
              "      <td>349900</td>\n",
              "      <td>CL</td>\n",
              "      <td>142 Wescott Road</td>\n",
              "      <td>Canaan</td>\n",
              "      <td>4091600</td>\n",
              "      <td>Single Family</td>\n",
              "      <td>NH</td>\n",
              "      <td>NH-Grafton</td>\n",
              "      <td>2011-09-07</td>\n",
              "      <td>4</td>\n",
              "      <td>2</td>\n",
              "      <td>2100.0</td>\n",
              "      <td>377</td>\n",
              "      <td>291100.0</td>\n",
              "      <td>NaN</td>\n",
              "      <td>349900</td>\n",
              "      <td>349900</td>\n",
              "      <td>24</td>\n",
              "      <td>369500</td>\n",
              "      <td>6794</td>\n",
              "      <td>2012-10-29</td>\n",
              "      <td>18.00</td>\n",
              "      <td>Attached</td>\n",
              "      <td>2003.0</td>\n",
              "      <td>2</td>\n",
              "      <td>Yes</td>\n",
              "      <td>NaN</td>\n",
              "      <td>No</td>\n",
              "      <td>NaN</td>\n",
              "      <td>NaN</td>\n",
              "      <td>NaN</td>\n",
              "      <td>8</td>\n",
              "      <td>NaN</td>\n",
              "      <td>4.0</td>\n",
              "      <td>Yes</td>\n",
              "      <td>NaN</td>\n",
              "      <td>No</td>\n",
              "      <td>NaN</td>\n",
              "      <td>NaN</td>\n",
              "      <td>No</td>\n",
              "      <td>No</td>\n",
              "      <td>NaN</td>\n",
              "      <td>NaN</td>\n",
              "      <td>No</td>\n",
              "    </tr>\n",
              "    <tr>\n",
              "      <th>3</th>\n",
              "      <td>Granite Northland Associates</td>\n",
              "      <td>Doreen Wyman</td>\n",
              "      <td>175000</td>\n",
              "      <td>CL</td>\n",
              "      <td>46 Kilton Road</td>\n",
              "      <td>Canaan</td>\n",
              "      <td>4092897</td>\n",
              "      <td>Single Family</td>\n",
              "      <td>NH</td>\n",
              "      <td>NH-Grafton</td>\n",
              "      <td>2011-09-13</td>\n",
              "      <td>3</td>\n",
              "      <td>2</td>\n",
              "      <td>1673.0</td>\n",
              "      <td>572</td>\n",
              "      <td>NaN</td>\n",
              "      <td>2010.0</td>\n",
              "      <td>175000</td>\n",
              "      <td>175000</td>\n",
              "      <td>18</td>\n",
              "      <td>219900</td>\n",
              "      <td>4040</td>\n",
              "      <td>2013-06-03</td>\n",
              "      <td>4.10</td>\n",
              "      <td>Detached</td>\n",
              "      <td>1900.0</td>\n",
              "      <td>1.5</td>\n",
              "      <td>Unknown</td>\n",
              "      <td>NaN</td>\n",
              "      <td>No</td>\n",
              "      <td>NaN</td>\n",
              "      <td>NaN</td>\n",
              "      <td>NaN</td>\n",
              "      <td>8</td>\n",
              "      <td>NaN</td>\n",
              "      <td>2.0</td>\n",
              "      <td>Yes</td>\n",
              "      <td>No</td>\n",
              "      <td>No</td>\n",
              "      <td>NaN</td>\n",
              "      <td>NaN</td>\n",
              "      <td>NaN</td>\n",
              "      <td>No</td>\n",
              "      <td>NaN</td>\n",
              "      <td>NaN</td>\n",
              "      <td>Yes</td>\n",
              "    </tr>\n",
              "    <tr>\n",
              "      <th>4</th>\n",
              "      <td>Vanessa Stone Real Estate</td>\n",
              "      <td>Vanessa Stone</td>\n",
              "      <td>259900</td>\n",
              "      <td>CL</td>\n",
              "      <td>16 Gould Rd</td>\n",
              "      <td>Canaan</td>\n",
              "      <td>4103231</td>\n",
              "      <td>Single Family</td>\n",
              "      <td>NH</td>\n",
              "      <td>NH-Grafton</td>\n",
              "      <td>2011-10-24</td>\n",
              "      <td>4</td>\n",
              "      <td>3</td>\n",
              "      <td>3221.0</td>\n",
              "      <td>409</td>\n",
              "      <td>273300.0</td>\n",
              "      <td>2011.0</td>\n",
              "      <td>259900</td>\n",
              "      <td>259900</td>\n",
              "      <td>24</td>\n",
              "      <td>264900</td>\n",
              "      <td>6379</td>\n",
              "      <td>2013-05-15</td>\n",
              "      <td>2.00</td>\n",
              "      <td>Under</td>\n",
              "      <td>1980.0</td>\n",
              "      <td>2</td>\n",
              "      <td>Yes</td>\n",
              "      <td>NaN</td>\n",
              "      <td>No</td>\n",
              "      <td>NaN</td>\n",
              "      <td>NaN</td>\n",
              "      <td>NaN</td>\n",
              "      <td>12</td>\n",
              "      <td>NaN</td>\n",
              "      <td>2.0</td>\n",
              "      <td>Yes</td>\n",
              "      <td>No</td>\n",
              "      <td>Unknown</td>\n",
              "      <td>NaN</td>\n",
              "      <td>NaN</td>\n",
              "      <td>No</td>\n",
              "      <td>Unknown</td>\n",
              "      <td>NaN</td>\n",
              "      <td>Walkout</td>\n",
              "      <td>Yes</td>\n",
              "    </tr>\n",
              "  </tbody>\n",
              "</table>\n",
              "</div>"
            ],
            "text/plain": [
              "     Listing_Office_Office_Name  ... Basement\n",
              "0  Granite Northland Associates  ...      Yes\n",
              "1     Vanessa Stone Real Estate  ...      Yes\n",
              "2     Vanessa Stone Real Estate  ...       No\n",
              "3  Granite Northland Associates  ...      Yes\n",
              "4     Vanessa Stone Real Estate  ...      Yes\n",
              "\n",
              "[5 rows x 46 columns]"
            ]
          },
          "metadata": {},
          "execution_count": 3
        }
      ]
    },
    {
      "cell_type": "code",
      "metadata": {
        "colab": {
          "base_uri": "https://localhost:8080/"
        },
        "id": "KuFJMOmrAvhg",
        "outputId": "96ac063e-2cae-4460-965d-4be4ba132830"
      },
      "source": [
        "data.shape"
      ],
      "execution_count": null,
      "outputs": [
        {
          "output_type": "execute_result",
          "data": {
            "text/plain": [
              "(6019, 46)"
            ]
          },
          "metadata": {},
          "execution_count": 4
        }
      ]
    },
    {
      "cell_type": "code",
      "metadata": {
        "colab": {
          "base_uri": "https://localhost:8080/",
          "height": 643
        },
        "id": "FXaes17mAxvh",
        "outputId": "15781b8d-4de2-4c0e-9c52-9863ac47b326"
      },
      "source": [
        "data.corr()\n"
      ],
      "execution_count": null,
      "outputs": [
        {
          "output_type": "execute_result",
          "data": {
            "text/html": [
              "<div>\n",
              "<style scoped>\n",
              "    .dataframe tbody tr th:only-of-type {\n",
              "        vertical-align: middle;\n",
              "    }\n",
              "\n",
              "    .dataframe tbody tr th {\n",
              "        vertical-align: top;\n",
              "    }\n",
              "\n",
              "    .dataframe thead th {\n",
              "        text-align: right;\n",
              "    }\n",
              "</style>\n",
              "<table border=\"1\" class=\"dataframe\">\n",
              "  <thead>\n",
              "    <tr style=\"text-align: right;\">\n",
              "      <th></th>\n",
              "      <th>Price</th>\n",
              "      <th>MLS #</th>\n",
              "      <th>Bedrooms _Total</th>\n",
              "      <th>Baths _Total</th>\n",
              "      <th>SqFtTotFn</th>\n",
              "      <th>DOM</th>\n",
              "      <th>Assessment_Amount</th>\n",
              "      <th>Assessment_Year</th>\n",
              "      <th>Price _Closed</th>\n",
              "      <th>Price_List</th>\n",
              "      <th>PicCount</th>\n",
              "      <th>Lot - Acres</th>\n",
              "      <th>Year Built</th>\n",
              "      <th>Water Frontage Length</th>\n",
              "      <th>Rooms - Total</th>\n",
              "      <th>Garage Capacity</th>\n",
              "      <th>Common Land Acres</th>\n",
              "    </tr>\n",
              "  </thead>\n",
              "  <tbody>\n",
              "    <tr>\n",
              "      <th>Price</th>\n",
              "      <td>1.000000</td>\n",
              "      <td>0.025210</td>\n",
              "      <td>0.411038</td>\n",
              "      <td>0.558122</td>\n",
              "      <td>0.645015</td>\n",
              "      <td>-0.012431</td>\n",
              "      <td>0.907335</td>\n",
              "      <td>-0.005192</td>\n",
              "      <td>1.000000</td>\n",
              "      <td>0.988274</td>\n",
              "      <td>0.225331</td>\n",
              "      <td>0.181535</td>\n",
              "      <td>0.036848</td>\n",
              "      <td>0.136437</td>\n",
              "      <td>0.452116</td>\n",
              "      <td>0.310160</td>\n",
              "      <td>-0.051517</td>\n",
              "    </tr>\n",
              "    <tr>\n",
              "      <th>MLS #</th>\n",
              "      <td>0.025210</td>\n",
              "      <td>1.000000</td>\n",
              "      <td>-0.023430</td>\n",
              "      <td>-0.015066</td>\n",
              "      <td>-0.003877</td>\n",
              "      <td>-0.529124</td>\n",
              "      <td>-0.042122</td>\n",
              "      <td>-0.042358</td>\n",
              "      <td>0.025210</td>\n",
              "      <td>0.011861</td>\n",
              "      <td>0.193944</td>\n",
              "      <td>0.001634</td>\n",
              "      <td>0.000182</td>\n",
              "      <td>-0.062786</td>\n",
              "      <td>-0.003963</td>\n",
              "      <td>0.023349</td>\n",
              "      <td>-0.017458</td>\n",
              "    </tr>\n",
              "    <tr>\n",
              "      <th>Bedrooms _Total</th>\n",
              "      <td>0.411038</td>\n",
              "      <td>-0.023430</td>\n",
              "      <td>1.000000</td>\n",
              "      <td>0.546250</td>\n",
              "      <td>0.622195</td>\n",
              "      <td>0.042034</td>\n",
              "      <td>0.440966</td>\n",
              "      <td>-0.002969</td>\n",
              "      <td>0.411038</td>\n",
              "      <td>0.405810</td>\n",
              "      <td>0.223732</td>\n",
              "      <td>0.099744</td>\n",
              "      <td>-0.194054</td>\n",
              "      <td>0.055978</td>\n",
              "      <td>0.665166</td>\n",
              "      <td>0.276277</td>\n",
              "      <td>-0.000351</td>\n",
              "    </tr>\n",
              "    <tr>\n",
              "      <th>Baths _Total</th>\n",
              "      <td>0.558122</td>\n",
              "      <td>-0.015066</td>\n",
              "      <td>0.546250</td>\n",
              "      <td>1.000000</td>\n",
              "      <td>0.751776</td>\n",
              "      <td>0.066392</td>\n",
              "      <td>0.565394</td>\n",
              "      <td>-0.021469</td>\n",
              "      <td>0.558122</td>\n",
              "      <td>0.549512</td>\n",
              "      <td>0.226371</td>\n",
              "      <td>0.083282</td>\n",
              "      <td>0.143511</td>\n",
              "      <td>0.019286</td>\n",
              "      <td>0.592349</td>\n",
              "      <td>0.290281</td>\n",
              "      <td>0.057496</td>\n",
              "    </tr>\n",
              "    <tr>\n",
              "      <th>SqFtTotFn</th>\n",
              "      <td>0.645015</td>\n",
              "      <td>-0.003877</td>\n",
              "      <td>0.622195</td>\n",
              "      <td>0.751776</td>\n",
              "      <td>1.000000</td>\n",
              "      <td>0.039848</td>\n",
              "      <td>0.676305</td>\n",
              "      <td>-0.028219</td>\n",
              "      <td>0.645015</td>\n",
              "      <td>0.639285</td>\n",
              "      <td>0.290971</td>\n",
              "      <td>0.175835</td>\n",
              "      <td>-0.012831</td>\n",
              "      <td>0.160588</td>\n",
              "      <td>0.691426</td>\n",
              "      <td>0.449254</td>\n",
              "      <td>-0.008896</td>\n",
              "    </tr>\n",
              "    <tr>\n",
              "      <th>DOM</th>\n",
              "      <td>-0.012431</td>\n",
              "      <td>-0.529124</td>\n",
              "      <td>0.042034</td>\n",
              "      <td>0.066392</td>\n",
              "      <td>0.039848</td>\n",
              "      <td>1.000000</td>\n",
              "      <td>0.054000</td>\n",
              "      <td>0.021897</td>\n",
              "      <td>-0.012431</td>\n",
              "      <td>0.009393</td>\n",
              "      <td>0.008164</td>\n",
              "      <td>0.051109</td>\n",
              "      <td>0.004108</td>\n",
              "      <td>0.056653</td>\n",
              "      <td>0.031280</td>\n",
              "      <td>-0.044414</td>\n",
              "      <td>0.021275</td>\n",
              "    </tr>\n",
              "    <tr>\n",
              "      <th>Assessment_Amount</th>\n",
              "      <td>0.907335</td>\n",
              "      <td>-0.042122</td>\n",
              "      <td>0.440966</td>\n",
              "      <td>0.565394</td>\n",
              "      <td>0.676305</td>\n",
              "      <td>0.054000</td>\n",
              "      <td>1.000000</td>\n",
              "      <td>-0.001195</td>\n",
              "      <td>0.907335</td>\n",
              "      <td>0.916678</td>\n",
              "      <td>0.213460</td>\n",
              "      <td>0.221644</td>\n",
              "      <td>0.054493</td>\n",
              "      <td>0.146571</td>\n",
              "      <td>0.530425</td>\n",
              "      <td>0.355823</td>\n",
              "      <td>-0.079535</td>\n",
              "    </tr>\n",
              "    <tr>\n",
              "      <th>Assessment_Year</th>\n",
              "      <td>-0.005192</td>\n",
              "      <td>-0.042358</td>\n",
              "      <td>-0.002969</td>\n",
              "      <td>-0.021469</td>\n",
              "      <td>-0.028219</td>\n",
              "      <td>0.021897</td>\n",
              "      <td>-0.001195</td>\n",
              "      <td>1.000000</td>\n",
              "      <td>-0.005192</td>\n",
              "      <td>-0.003550</td>\n",
              "      <td>-0.036595</td>\n",
              "      <td>0.010380</td>\n",
              "      <td>0.000100</td>\n",
              "      <td>0.006394</td>\n",
              "      <td>-0.014544</td>\n",
              "      <td>0.002669</td>\n",
              "      <td>0.148293</td>\n",
              "    </tr>\n",
              "    <tr>\n",
              "      <th>Price _Closed</th>\n",
              "      <td>1.000000</td>\n",
              "      <td>0.025210</td>\n",
              "      <td>0.411038</td>\n",
              "      <td>0.558122</td>\n",
              "      <td>0.645015</td>\n",
              "      <td>-0.012431</td>\n",
              "      <td>0.907335</td>\n",
              "      <td>-0.005192</td>\n",
              "      <td>1.000000</td>\n",
              "      <td>0.988274</td>\n",
              "      <td>0.225331</td>\n",
              "      <td>0.181535</td>\n",
              "      <td>0.036848</td>\n",
              "      <td>0.136437</td>\n",
              "      <td>0.452116</td>\n",
              "      <td>0.310160</td>\n",
              "      <td>-0.051517</td>\n",
              "    </tr>\n",
              "    <tr>\n",
              "      <th>Price_List</th>\n",
              "      <td>0.988274</td>\n",
              "      <td>0.011861</td>\n",
              "      <td>0.405810</td>\n",
              "      <td>0.549512</td>\n",
              "      <td>0.639285</td>\n",
              "      <td>0.009393</td>\n",
              "      <td>0.916678</td>\n",
              "      <td>-0.003550</td>\n",
              "      <td>0.988274</td>\n",
              "      <td>1.000000</td>\n",
              "      <td>0.218332</td>\n",
              "      <td>0.203041</td>\n",
              "      <td>0.030199</td>\n",
              "      <td>0.145680</td>\n",
              "      <td>0.445988</td>\n",
              "      <td>0.306980</td>\n",
              "      <td>-0.049324</td>\n",
              "    </tr>\n",
              "    <tr>\n",
              "      <th>PicCount</th>\n",
              "      <td>0.225331</td>\n",
              "      <td>0.193944</td>\n",
              "      <td>0.223732</td>\n",
              "      <td>0.226371</td>\n",
              "      <td>0.290971</td>\n",
              "      <td>0.008164</td>\n",
              "      <td>0.213460</td>\n",
              "      <td>-0.036595</td>\n",
              "      <td>0.225331</td>\n",
              "      <td>0.218332</td>\n",
              "      <td>1.000000</td>\n",
              "      <td>0.074909</td>\n",
              "      <td>-0.016217</td>\n",
              "      <td>0.134292</td>\n",
              "      <td>0.289384</td>\n",
              "      <td>0.202463</td>\n",
              "      <td>-0.023844</td>\n",
              "    </tr>\n",
              "    <tr>\n",
              "      <th>Lot - Acres</th>\n",
              "      <td>0.181535</td>\n",
              "      <td>0.001634</td>\n",
              "      <td>0.099744</td>\n",
              "      <td>0.083282</td>\n",
              "      <td>0.175835</td>\n",
              "      <td>0.051109</td>\n",
              "      <td>0.221644</td>\n",
              "      <td>0.010380</td>\n",
              "      <td>0.181535</td>\n",
              "      <td>0.203041</td>\n",
              "      <td>0.074909</td>\n",
              "      <td>1.000000</td>\n",
              "      <td>-0.081687</td>\n",
              "      <td>0.495225</td>\n",
              "      <td>0.104671</td>\n",
              "      <td>0.173426</td>\n",
              "      <td>0.007655</td>\n",
              "    </tr>\n",
              "    <tr>\n",
              "      <th>Year Built</th>\n",
              "      <td>0.036848</td>\n",
              "      <td>0.000182</td>\n",
              "      <td>-0.194054</td>\n",
              "      <td>0.143511</td>\n",
              "      <td>-0.012831</td>\n",
              "      <td>0.004108</td>\n",
              "      <td>0.054493</td>\n",
              "      <td>0.000100</td>\n",
              "      <td>0.036848</td>\n",
              "      <td>0.030199</td>\n",
              "      <td>-0.016217</td>\n",
              "      <td>-0.081687</td>\n",
              "      <td>1.000000</td>\n",
              "      <td>-0.157690</td>\n",
              "      <td>-0.119509</td>\n",
              "      <td>-0.002955</td>\n",
              "      <td>-0.021530</td>\n",
              "    </tr>\n",
              "    <tr>\n",
              "      <th>Water Frontage Length</th>\n",
              "      <td>0.136437</td>\n",
              "      <td>-0.062786</td>\n",
              "      <td>0.055978</td>\n",
              "      <td>0.019286</td>\n",
              "      <td>0.160588</td>\n",
              "      <td>0.056653</td>\n",
              "      <td>0.146571</td>\n",
              "      <td>0.006394</td>\n",
              "      <td>0.136437</td>\n",
              "      <td>0.145680</td>\n",
              "      <td>0.134292</td>\n",
              "      <td>0.495225</td>\n",
              "      <td>-0.157690</td>\n",
              "      <td>1.000000</td>\n",
              "      <td>0.057473</td>\n",
              "      <td>0.347964</td>\n",
              "      <td>-0.000610</td>\n",
              "    </tr>\n",
              "    <tr>\n",
              "      <th>Rooms - Total</th>\n",
              "      <td>0.452116</td>\n",
              "      <td>-0.003963</td>\n",
              "      <td>0.665166</td>\n",
              "      <td>0.592349</td>\n",
              "      <td>0.691426</td>\n",
              "      <td>0.031280</td>\n",
              "      <td>0.530425</td>\n",
              "      <td>-0.014544</td>\n",
              "      <td>0.452116</td>\n",
              "      <td>0.445988</td>\n",
              "      <td>0.289384</td>\n",
              "      <td>0.104671</td>\n",
              "      <td>-0.119509</td>\n",
              "      <td>0.057473</td>\n",
              "      <td>1.000000</td>\n",
              "      <td>0.326656</td>\n",
              "      <td>-0.057310</td>\n",
              "    </tr>\n",
              "    <tr>\n",
              "      <th>Garage Capacity</th>\n",
              "      <td>0.310160</td>\n",
              "      <td>0.023349</td>\n",
              "      <td>0.276277</td>\n",
              "      <td>0.290281</td>\n",
              "      <td>0.449254</td>\n",
              "      <td>-0.044414</td>\n",
              "      <td>0.355823</td>\n",
              "      <td>0.002669</td>\n",
              "      <td>0.310160</td>\n",
              "      <td>0.306980</td>\n",
              "      <td>0.202463</td>\n",
              "      <td>0.173426</td>\n",
              "      <td>-0.002955</td>\n",
              "      <td>0.347964</td>\n",
              "      <td>0.326656</td>\n",
              "      <td>1.000000</td>\n",
              "      <td>-0.155278</td>\n",
              "    </tr>\n",
              "    <tr>\n",
              "      <th>Common Land Acres</th>\n",
              "      <td>-0.051517</td>\n",
              "      <td>-0.017458</td>\n",
              "      <td>-0.000351</td>\n",
              "      <td>0.057496</td>\n",
              "      <td>-0.008896</td>\n",
              "      <td>0.021275</td>\n",
              "      <td>-0.079535</td>\n",
              "      <td>0.148293</td>\n",
              "      <td>-0.051517</td>\n",
              "      <td>-0.049324</td>\n",
              "      <td>-0.023844</td>\n",
              "      <td>0.007655</td>\n",
              "      <td>-0.021530</td>\n",
              "      <td>-0.000610</td>\n",
              "      <td>-0.057310</td>\n",
              "      <td>-0.155278</td>\n",
              "      <td>1.000000</td>\n",
              "    </tr>\n",
              "  </tbody>\n",
              "</table>\n",
              "</div>"
            ],
            "text/plain": [
              "                          Price     MLS #  ...  Garage Capacity  Common Land Acres\n",
              "Price                  1.000000  0.025210  ...         0.310160          -0.051517\n",
              "MLS #                  0.025210  1.000000  ...         0.023349          -0.017458\n",
              "Bedrooms _Total        0.411038 -0.023430  ...         0.276277          -0.000351\n",
              "Baths _Total           0.558122 -0.015066  ...         0.290281           0.057496\n",
              "SqFtTotFn              0.645015 -0.003877  ...         0.449254          -0.008896\n",
              "DOM                   -0.012431 -0.529124  ...        -0.044414           0.021275\n",
              "Assessment_Amount      0.907335 -0.042122  ...         0.355823          -0.079535\n",
              "Assessment_Year       -0.005192 -0.042358  ...         0.002669           0.148293\n",
              "Price _Closed          1.000000  0.025210  ...         0.310160          -0.051517\n",
              "Price_List             0.988274  0.011861  ...         0.306980          -0.049324\n",
              "PicCount               0.225331  0.193944  ...         0.202463          -0.023844\n",
              "Lot - Acres            0.181535  0.001634  ...         0.173426           0.007655\n",
              "Year Built             0.036848  0.000182  ...        -0.002955          -0.021530\n",
              "Water Frontage Length  0.136437 -0.062786  ...         0.347964          -0.000610\n",
              "Rooms - Total          0.452116 -0.003963  ...         0.326656          -0.057310\n",
              "Garage Capacity        0.310160  0.023349  ...         1.000000          -0.155278\n",
              "Common Land Acres     -0.051517 -0.017458  ...        -0.155278           1.000000\n",
              "\n",
              "[17 rows x 17 columns]"
            ]
          },
          "metadata": {},
          "execution_count": 5
        }
      ]
    },
    {
      "cell_type": "code",
      "metadata": {
        "colab": {
          "base_uri": "https://localhost:8080/",
          "height": 390
        },
        "id": "j1xdaMSuA3aG",
        "outputId": "0e5e8d0f-3ad3-4435-bc79-3c5fc7ea73a1"
      },
      "source": [
        "sns.heatmap(data.corr())"
      ],
      "execution_count": null,
      "outputs": [
        {
          "output_type": "execute_result",
          "data": {
            "text/plain": [
              "<matplotlib.axes._subplots.AxesSubplot at 0x7fc09808da10>"
            ]
          },
          "metadata": {},
          "execution_count": 6
        },
        {
          "output_type": "display_data",
          "data": {
            "image/png": "[encoded data removed]",
            "text/plain": [
              "<Figure size 432x288 with 2 Axes>"
            ]
          },
          "metadata": {
            "needs_background": "light"
          }
        }
      ]
    },
    {
      "cell_type": "code",
      "metadata": {
        "colab": {
          "base_uri": "https://localhost:8080/"
        },
        "id": "3K_hMjyvA3xQ",
        "outputId": "cbe60675-6e56-46b7-ab06-f7c21aab6b86"
      },
      "source": [
        "data.isnull().sum()"
      ],
      "execution_count": null,
      "outputs": [
        {
          "output_type": "execute_result",
          "data": {
            "text/plain": [
              "Listing_Office_Office_Name       0\n",
              "List Agent_Agent Name            0\n",
              "Price                            0\n",
              "Status                           0\n",
              "Address                          0\n",
              "City                             0\n",
              "MLS #                            0\n",
              "Property_Type                    0\n",
              "State                            0\n",
              "County                           0\n",
              "Date - MLS List                  0\n",
              "Bedrooms _Total                  0\n",
              "Baths _Total                     0\n",
              "SqFtTotFn                        2\n",
              "DOM                              0\n",
              "Assessment_Amount             3036\n",
              "Assessment_Year               3902\n",
              "Price _Closed                    0\n",
              "Price_List                       0\n",
              "PicCount                         0\n",
              " Price_Original                  0\n",
              " Tax - Gross Amount             76\n",
              "Date - Closed                    0\n",
              "Lot - Acres                     51\n",
              "Garage Type                   2102\n",
              "Year Built                       5\n",
              "Total Stories                    1\n",
              "Surveyed                         7\n",
              "Showing Service               5869\n",
              "Seasonal                         2\n",
              "Water Body Type               5099\n",
              "Water Frontage Length         5465\n",
              "Short Sale                    2127\n",
              "Rooms - Total                    0\n",
              "Rented                        5947\n",
              "Garage Capacity                 78\n",
              "Garage                           2\n",
              "Foreclosed/Bank-Owned/REO      701\n",
              "Flood Zone                       2\n",
              "Easements                     5695\n",
              "Development / Subdivision     4787\n",
              "Current Use                   3331\n",
              "Covenants                        2\n",
              "Common Land Acres             5661\n",
              "Basement Access Type          1653\n",
              "Basement                        73\n",
              "dtype: int64"
            ]
          },
          "metadata": {},
          "execution_count": 7
        }
      ]
    },
    {
      "cell_type": "code",
      "metadata": {
        "colab": {
          "base_uri": "https://localhost:8080/",
          "height": 413
        },
        "id": "g2jY2pfVA6MI",
        "outputId": "ffe1f480-5f9d-47b9-c726-9fc4862009ca"
      },
      "source": [
        "sns.heatmap(data.isnull(),yticklabels=False,cbar=True,cmap='viridis')"
      ],
      "execution_count": null,
      "outputs": [
        {
          "output_type": "execute_result",
          "data": {
            "text/plain": [
              "<matplotlib.axes._subplots.AxesSubplot at 0x7fc097b9a190>"
            ]
          },
          "metadata": {},
          "execution_count": 8
        },
        {
          "output_type": "display_data",
          "data": {
            "image/png": "[encoded data removed]",
            "text/plain": [
              "<Figure size 432x288 with 2 Axes>"
            ]
          },
          "metadata": {
            "needs_background": "light"
          }
        }
      ]
    },
    {
      "cell_type": "code",
      "metadata": {
        "colab": {
          "base_uri": "https://localhost:8080/"
        },
        "id": "g-OCzIViA7g1",
        "outputId": "2ab874c0-a808-446b-fcdb-20a54a54f245"
      },
      "source": [
        "data.dtypes"
      ],
      "execution_count": null,
      "outputs": [
        {
          "output_type": "execute_result",
          "data": {
            "text/plain": [
              "Listing_Office_Office_Name            object\n",
              "List Agent_Agent Name                 object\n",
              "Price                                  int64\n",
              "Status                                object\n",
              "Address                               object\n",
              "City                                  object\n",
              "MLS #                                  int64\n",
              "Property_Type                         object\n",
              "State                                 object\n",
              "County                                object\n",
              "Date - MLS List               datetime64[ns]\n",
              "Bedrooms _Total                        int64\n",
              "Baths _Total                           int64\n",
              "SqFtTotFn                            float64\n",
              "DOM                                    int64\n",
              "Assessment_Amount                    float64\n",
              "Assessment_Year                      float64\n",
              "Price _Closed                          int64\n",
              "Price_List                             int64\n",
              "PicCount                               int64\n",
              " Price_Original                       object\n",
              " Tax - Gross Amount                   object\n",
              "Date - Closed                 datetime64[ns]\n",
              "Lot - Acres                          float64\n",
              "Garage Type                           object\n",
              "Year Built                           float64\n",
              "Total Stories                         object\n",
              "Surveyed                              object\n",
              "Showing Service                       object\n",
              "Seasonal                              object\n",
              "Water Body Type                       object\n",
              "Water Frontage Length                float64\n",
              "Short Sale                            object\n",
              "Rooms - Total                          int64\n",
              "Rented                                object\n",
              "Garage Capacity                      float64\n",
              "Garage                                object\n",
              "Foreclosed/Bank-Owned/REO             object\n",
              "Flood Zone                            object\n",
              "Easements                             object\n",
              "Development / Subdivision             object\n",
              "Current Use                           object\n",
              "Covenants                             object\n",
              "Common Land Acres                    float64\n",
              "Basement Access Type                  object\n",
              "Basement                              object\n",
              "dtype: object"
            ]
          },
          "metadata": {},
          "execution_count": 9
        }
      ]
    },
    {
      "cell_type": "code",
      "metadata": {
        "id": "KpaFsJJOA7jL"
      },
      "source": [
        ""
      ],
      "execution_count": null,
      "outputs": []
    },
    {
      "cell_type": "markdown",
      "metadata": {
        "id": "cKfMVRd6BCYN"
      },
      "source": [
        "# Consider Int Datatypes in databsae First"
      ]
    },
    {
      "cell_type": "code",
      "metadata": {
        "id": "TMZIXkUAA7nz"
      },
      "source": [
        "int_cols = list(data.select_dtypes('int64').columns)"
      ],
      "execution_count": null,
      "outputs": []
    },
    {
      "cell_type": "code",
      "metadata": {
        "colab": {
          "base_uri": "https://localhost:8080/"
        },
        "id": "jKpP_qzoA7pr",
        "outputId": "200cf9cb-f56e-43ea-b672-4bfd6dccc68f"
      },
      "source": [
        "int_cols"
      ],
      "execution_count": null,
      "outputs": [
        {
          "output_type": "execute_result",
          "data": {
            "text/plain": [
              "['Price',\n",
              " 'MLS #',\n",
              " 'Bedrooms _Total',\n",
              " 'Baths _Total',\n",
              " 'DOM',\n",
              " 'Price _Closed',\n",
              " 'Price_List',\n",
              " 'PicCount',\n",
              " 'Rooms - Total']"
            ]
          },
          "metadata": {},
          "execution_count": 11
        }
      ]
    },
    {
      "cell_type": "code",
      "metadata": {
        "colab": {
          "base_uri": "https://localhost:8080/"
        },
        "id": "d8LI1hnhA7r5",
        "outputId": "e3471dd3-83ea-46ed-b74f-beac6f8c303c"
      },
      "source": [
        "data.isnull().sum()"
      ],
      "execution_count": null,
      "outputs": [
        {
          "output_type": "execute_result",
          "data": {
            "text/plain": [
              "Listing_Office_Office_Name       0\n",
              "List Agent_Agent Name            0\n",
              "Price                            0\n",
              "Status                           0\n",
              "Address                          0\n",
              "City                             0\n",
              "MLS #                            0\n",
              "Property_Type                    0\n",
              "State                            0\n",
              "County                           0\n",
              "Date - MLS List                  0\n",
              "Bedrooms _Total                  0\n",
              "Baths _Total                     0\n",
              "SqFtTotFn                        2\n",
              "DOM                              0\n",
              "Assessment_Amount             3036\n",
              "Assessment_Year               3902\n",
              "Price _Closed                    0\n",
              "Price_List                       0\n",
              "PicCount                         0\n",
              " Price_Original                  0\n",
              " Tax - Gross Amount             76\n",
              "Date - Closed                    0\n",
              "Lot - Acres                     51\n",
              "Garage Type                   2102\n",
              "Year Built                       5\n",
              "Total Stories                    1\n",
              "Surveyed                         7\n",
              "Showing Service               5869\n",
              "Seasonal                         2\n",
              "Water Body Type               5099\n",
              "Water Frontage Length         5465\n",
              "Short Sale                    2127\n",
              "Rooms - Total                    0\n",
              "Rented                        5947\n",
              "Garage Capacity                 78\n",
              "Garage                           2\n",
              "Foreclosed/Bank-Owned/REO      701\n",
              "Flood Zone                       2\n",
              "Easements                     5695\n",
              "Development / Subdivision     4787\n",
              "Current Use                   3331\n",
              "Covenants                        2\n",
              "Common Land Acres             5661\n",
              "Basement Access Type          1653\n",
              "Basement                        73\n",
              "dtype: int64"
            ]
          },
          "metadata": {},
          "execution_count": 12
        }
      ]
    },
    {
      "cell_type": "code",
      "metadata": {
        "id": "kKS2OqDtA7ub"
      },
      "source": [
        ""
      ],
      "execution_count": null,
      "outputs": []
    },
    {
      "cell_type": "markdown",
      "metadata": {
        "id": "WAcqvO2JBLH0"
      },
      "source": [
        "# Consider float Datatypes in databsae Second"
      ]
    },
    {
      "cell_type": "code",
      "metadata": {
        "id": "gNSRCWllBRyr"
      },
      "source": [
        "float_cols = list(data.select_dtypes('float').columns)"
      ],
      "execution_count": null,
      "outputs": []
    },
    {
      "cell_type": "code",
      "metadata": {
        "colab": {
          "base_uri": "https://localhost:8080/"
        },
        "id": "FFWgGLkiBUAi",
        "outputId": "aab86186-508a-4b90-8735-1dbd6bd7dfb2"
      },
      "source": [
        "float_cols"
      ],
      "execution_count": null,
      "outputs": [
        {
          "output_type": "execute_result",
          "data": {
            "text/plain": [
              "['SqFtTotFn',\n",
              " 'Assessment_Amount',\n",
              " 'Assessment_Year',\n",
              " 'Lot - Acres',\n",
              " 'Year Built',\n",
              " 'Water Frontage Length',\n",
              " 'Garage Capacity',\n",
              " 'Common Land Acres']"
            ]
          },
          "metadata": {},
          "execution_count": 14
        }
      ]
    },
    {
      "cell_type": "code",
      "metadata": {
        "colab": {
          "base_uri": "https://localhost:8080/"
        },
        "id": "GuV3Y5rtBU7-",
        "outputId": "5810690e-e9cc-42b3-a1c9-d6e774ca18bf"
      },
      "source": [
        "data.isnull().sum()"
      ],
      "execution_count": null,
      "outputs": [
        {
          "output_type": "execute_result",
          "data": {
            "text/plain": [
              "Listing_Office_Office_Name       0\n",
              "List Agent_Agent Name            0\n",
              "Price                            0\n",
              "Status                           0\n",
              "Address                          0\n",
              "City                             0\n",
              "MLS #                            0\n",
              "Property_Type                    0\n",
              "State                            0\n",
              "County                           0\n",
              "Date - MLS List                  0\n",
              "Bedrooms _Total                  0\n",
              "Baths _Total                     0\n",
              "SqFtTotFn                        2\n",
              "DOM                              0\n",
              "Assessment_Amount             3036\n",
              "Assessment_Year               3902\n",
              "Price _Closed                    0\n",
              "Price_List                       0\n",
              "PicCount                         0\n",
              " Price_Original                  0\n",
              " Tax - Gross Amount             76\n",
              "Date - Closed                    0\n",
              "Lot - Acres                     51\n",
              "Garage Type                   2102\n",
              "Year Built                       5\n",
              "Total Stories                    1\n",
              "Surveyed                         7\n",
              "Showing Service               5869\n",
              "Seasonal                         2\n",
              "Water Body Type               5099\n",
              "Water Frontage Length         5465\n",
              "Short Sale                    2127\n",
              "Rooms - Total                    0\n",
              "Rented                        5947\n",
              "Garage Capacity                 78\n",
              "Garage                           2\n",
              "Foreclosed/Bank-Owned/REO      701\n",
              "Flood Zone                       2\n",
              "Easements                     5695\n",
              "Development / Subdivision     4787\n",
              "Current Use                   3331\n",
              "Covenants                        2\n",
              "Common Land Acres             5661\n",
              "Basement Access Type          1653\n",
              "Basement                        73\n",
              "dtype: int64"
            ]
          },
          "metadata": {},
          "execution_count": 15
        }
      ]
    },
    {
      "cell_type": "code",
      "metadata": {
        "colab": {
          "base_uri": "https://localhost:8080/"
        },
        "id": "8blqDpK5BXKV",
        "outputId": "a9cfc914-219e-4159-89e9-659341888f59"
      },
      "source": [
        "data.shape"
      ],
      "execution_count": null,
      "outputs": [
        {
          "output_type": "execute_result",
          "data": {
            "text/plain": [
              "(6019, 46)"
            ]
          },
          "metadata": {},
          "execution_count": 16
        }
      ]
    },
    {
      "cell_type": "code",
      "metadata": {
        "id": "xnhgxic-BZ3e"
      },
      "source": [
        "data['SqFtTotFn'].fillna(data['SqFtTotFn'].mean(),inplace = True)"
      ],
      "execution_count": null,
      "outputs": []
    },
    {
      "cell_type": "code",
      "metadata": {
        "colab": {
          "base_uri": "https://localhost:8080/"
        },
        "id": "EnhZ-TS6Bdpb",
        "outputId": "bfb7757b-f4a6-4cc6-fbbb-19088a148d27"
      },
      "source": [
        "data['SqFtTotFn'].isnull().sum()"
      ],
      "execution_count": null,
      "outputs": [
        {
          "output_type": "execute_result",
          "data": {
            "text/plain": [
              "0"
            ]
          },
          "metadata": {},
          "execution_count": 18
        }
      ]
    },
    {
      "cell_type": "code",
      "metadata": {
        "id": "kBKy98HrBfdj"
      },
      "source": [
        "data['Year Built'].fillna(data['Year Built'].mean(),inplace = True)"
      ],
      "execution_count": null,
      "outputs": []
    },
    {
      "cell_type": "code",
      "metadata": {
        "colab": {
          "base_uri": "https://localhost:8080/"
        },
        "id": "zpb7mtpRBhhP",
        "outputId": "c750e0fd-a81c-4e3c-d755-d3b68cea001d"
      },
      "source": [
        "data['Year Built'].isnull().sum()"
      ],
      "execution_count": null,
      "outputs": [
        {
          "output_type": "execute_result",
          "data": {
            "text/plain": [
              "0"
            ]
          },
          "metadata": {},
          "execution_count": 20
        }
      ]
    },
    {
      "cell_type": "code",
      "metadata": {
        "id": "BbWwvYtNBjNj"
      },
      "source": [
        "data['Garage Capacity'].fillna(data['Garage Capacity'].mean(),inplace = True)"
      ],
      "execution_count": null,
      "outputs": []
    },
    {
      "cell_type": "code",
      "metadata": {
        "colab": {
          "base_uri": "https://localhost:8080/"
        },
        "id": "IDKmM-IIBlod",
        "outputId": "2d95a2a6-be94-43db-bef8-b64a4c7500b4"
      },
      "source": [
        "data['Garage Capacity'].isnull().sum()"
      ],
      "execution_count": null,
      "outputs": [
        {
          "output_type": "execute_result",
          "data": {
            "text/plain": [
              "0"
            ]
          },
          "metadata": {},
          "execution_count": 22
        }
      ]
    },
    {
      "cell_type": "code",
      "metadata": {
        "id": "r_2gVNh3BnUD"
      },
      "source": [
        "data['Assessment_Amount'].fillna(data['Assessment_Amount'].mean(),inplace = True)"
      ],
      "execution_count": null,
      "outputs": []
    },
    {
      "cell_type": "code",
      "metadata": {
        "colab": {
          "base_uri": "https://localhost:8080/"
        },
        "id": "UryDBSIrBpri",
        "outputId": "8bbe192f-1345-4e16-c937-f96c9c29673c"
      },
      "source": [
        "data['Assessment_Amount'].isnull().sum()"
      ],
      "execution_count": null,
      "outputs": [
        {
          "output_type": "execute_result",
          "data": {
            "text/plain": [
              "0"
            ]
          },
          "metadata": {},
          "execution_count": 24
        }
      ]
    },
    {
      "cell_type": "code",
      "metadata": {
        "id": "3Yx-shgnBroj"
      },
      "source": [
        "data['Assessment_Year'].fillna(data['Assessment_Year'].mean(),inplace = True)"
      ],
      "execution_count": null,
      "outputs": []
    },
    {
      "cell_type": "code",
      "metadata": {
        "colab": {
          "base_uri": "https://localhost:8080/"
        },
        "id": "FwTn2zkGBtjI",
        "outputId": "bf62e110-d131-4951-dc25-cc4484bab710"
      },
      "source": [
        "data['Assessment_Year'].isnull().sum()"
      ],
      "execution_count": null,
      "outputs": [
        {
          "output_type": "execute_result",
          "data": {
            "text/plain": [
              "0"
            ]
          },
          "metadata": {},
          "execution_count": 26
        }
      ]
    },
    {
      "cell_type": "markdown",
      "metadata": {
        "id": "hEHmD7IuBytA"
      },
      "source": [
        "# removing Two Column"
      ]
    },
    {
      "cell_type": "code",
      "metadata": {
        "id": "YTN31zVCBvS3"
      },
      "source": [
        "data.drop(['Water Frontage Length','Common Land Acres'],inplace=True,axis=1)"
      ],
      "execution_count": null,
      "outputs": []
    },
    {
      "cell_type": "code",
      "metadata": {
        "colab": {
          "base_uri": "https://localhost:8080/",
          "height": 442
        },
        "id": "fPJjobNHBxx4",
        "outputId": "eef6808a-6578-4dc5-bd69-ff4c08850307"
      },
      "source": [
        "data.head()"
      ],
      "execution_count": null,
      "outputs": [
        {
          "output_type": "execute_result",
          "data": {
            "text/html": [
              "<div>\n",
              "<style scoped>\n",
              "    .dataframe tbody tr th:only-of-type {\n",
              "        vertical-align: middle;\n",
              "    }\n",
              "\n",
              "    .dataframe tbody tr th {\n",
              "        vertical-align: top;\n",
              "    }\n",
              "\n",
              "    .dataframe thead th {\n",
              "        text-align: right;\n",
              "    }\n",
              "</style>\n",
              "<table border=\"1\" class=\"dataframe\">\n",
              "  <thead>\n",
              "    <tr style=\"text-align: right;\">\n",
              "      <th></th>\n",
              "      <th>Listing_Office_Office_Name</th>\n",
              "      <th>List Agent_Agent Name</th>\n",
              "      <th>Price</th>\n",
              "      <th>Status</th>\n",
              "      <th>Address</th>\n",
              "      <th>City</th>\n",
              "      <th>MLS #</th>\n",
              "      <th>Property_Type</th>\n",
              "      <th>State</th>\n",
              "      <th>County</th>\n",
              "      <th>Date - MLS List</th>\n",
              "      <th>Bedrooms _Total</th>\n",
              "      <th>Baths _Total</th>\n",
              "      <th>SqFtTotFn</th>\n",
              "      <th>DOM</th>\n",
              "      <th>Assessment_Amount</th>\n",
              "      <th>Assessment_Year</th>\n",
              "      <th>Price _Closed</th>\n",
              "      <th>Price_List</th>\n",
              "      <th>PicCount</th>\n",
              "      <th>Price_Original</th>\n",
              "      <th>Tax - Gross Amount</th>\n",
              "      <th>Date - Closed</th>\n",
              "      <th>Lot - Acres</th>\n",
              "      <th>Garage Type</th>\n",
              "      <th>Year Built</th>\n",
              "      <th>Total Stories</th>\n",
              "      <th>Surveyed</th>\n",
              "      <th>Showing Service</th>\n",
              "      <th>Seasonal</th>\n",
              "      <th>Water Body Type</th>\n",
              "      <th>Short Sale</th>\n",
              "      <th>Rooms - Total</th>\n",
              "      <th>Rented</th>\n",
              "      <th>Garage Capacity</th>\n",
              "      <th>Garage</th>\n",
              "      <th>Foreclosed/Bank-Owned/REO</th>\n",
              "      <th>Flood Zone</th>\n",
              "      <th>Easements</th>\n",
              "      <th>Development / Subdivision</th>\n",
              "      <th>Current Use</th>\n",
              "      <th>Covenants</th>\n",
              "      <th>Basement Access Type</th>\n",
              "      <th>Basement</th>\n",
              "    </tr>\n",
              "  </thead>\n",
              "  <tbody>\n",
              "    <tr>\n",
              "      <th>0</th>\n",
              "      <td>Granite Northland Associates</td>\n",
              "      <td>Doreen Wyman</td>\n",
              "      <td>198500</td>\n",
              "      <td>CL</td>\n",
              "      <td>668 NH ROUTE 118</td>\n",
              "      <td>Canaan</td>\n",
              "      <td>4043956</td>\n",
              "      <td>Single Family</td>\n",
              "      <td>NH</td>\n",
              "      <td>NH-Grafton</td>\n",
              "      <td>2011-02-08</td>\n",
              "      <td>3</td>\n",
              "      <td>2</td>\n",
              "      <td>1144.0</td>\n",
              "      <td>520</td>\n",
              "      <td>282702.362052</td>\n",
              "      <td>2010.000000</td>\n",
              "      <td>198500</td>\n",
              "      <td>199900</td>\n",
              "      <td>18</td>\n",
              "      <td>229900</td>\n",
              "      <td>4292</td>\n",
              "      <td>2012-08-23</td>\n",
              "      <td>1.09</td>\n",
              "      <td>NaN</td>\n",
              "      <td>2007.0</td>\n",
              "      <td>1</td>\n",
              "      <td>Yes</td>\n",
              "      <td>NaN</td>\n",
              "      <td>No</td>\n",
              "      <td>NaN</td>\n",
              "      <td>NaN</td>\n",
              "      <td>5</td>\n",
              "      <td>NaN</td>\n",
              "      <td>0.0</td>\n",
              "      <td>No</td>\n",
              "      <td>NaN</td>\n",
              "      <td>No</td>\n",
              "      <td>NaN</td>\n",
              "      <td>NaN</td>\n",
              "      <td>No</td>\n",
              "      <td>No</td>\n",
              "      <td>Walkout</td>\n",
              "      <td>Yes</td>\n",
              "    </tr>\n",
              "    <tr>\n",
              "      <th>1</th>\n",
              "      <td>Vanessa Stone Real Estate</td>\n",
              "      <td>Vanessa Stone</td>\n",
              "      <td>130000</td>\n",
              "      <td>CL</td>\n",
              "      <td>157 Follensbee Rd</td>\n",
              "      <td>Canaan</td>\n",
              "      <td>4090057</td>\n",
              "      <td>Single Family</td>\n",
              "      <td>NH</td>\n",
              "      <td>NH-Grafton</td>\n",
              "      <td>2011-08-29</td>\n",
              "      <td>4</td>\n",
              "      <td>2</td>\n",
              "      <td>2304.0</td>\n",
              "      <td>275</td>\n",
              "      <td>146100.000000</td>\n",
              "      <td>2000.179499</td>\n",
              "      <td>130000</td>\n",
              "      <td>139900</td>\n",
              "      <td>8</td>\n",
              "      <td>145000</td>\n",
              "      <td>3410</td>\n",
              "      <td>2012-06-29</td>\n",
              "      <td>1.00</td>\n",
              "      <td>NaN</td>\n",
              "      <td>1973.0</td>\n",
              "      <td>2</td>\n",
              "      <td>Unknown</td>\n",
              "      <td>NaN</td>\n",
              "      <td>No</td>\n",
              "      <td>NaN</td>\n",
              "      <td>NaN</td>\n",
              "      <td>8</td>\n",
              "      <td>NaN</td>\n",
              "      <td>0.0</td>\n",
              "      <td>No</td>\n",
              "      <td>NaN</td>\n",
              "      <td>No</td>\n",
              "      <td>NaN</td>\n",
              "      <td>NaN</td>\n",
              "      <td>No</td>\n",
              "      <td>No</td>\n",
              "      <td>Walkout</td>\n",
              "      <td>Yes</td>\n",
              "    </tr>\n",
              "    <tr>\n",
              "      <th>2</th>\n",
              "      <td>Vanessa Stone Real Estate</td>\n",
              "      <td>Vanessa Stone</td>\n",
              "      <td>349900</td>\n",
              "      <td>CL</td>\n",
              "      <td>142 Wescott Road</td>\n",
              "      <td>Canaan</td>\n",
              "      <td>4091600</td>\n",
              "      <td>Single Family</td>\n",
              "      <td>NH</td>\n",
              "      <td>NH-Grafton</td>\n",
              "      <td>2011-09-07</td>\n",
              "      <td>4</td>\n",
              "      <td>2</td>\n",
              "      <td>2100.0</td>\n",
              "      <td>377</td>\n",
              "      <td>291100.000000</td>\n",
              "      <td>2000.179499</td>\n",
              "      <td>349900</td>\n",
              "      <td>349900</td>\n",
              "      <td>24</td>\n",
              "      <td>369500</td>\n",
              "      <td>6794</td>\n",
              "      <td>2012-10-29</td>\n",
              "      <td>18.00</td>\n",
              "      <td>Attached</td>\n",
              "      <td>2003.0</td>\n",
              "      <td>2</td>\n",
              "      <td>Yes</td>\n",
              "      <td>NaN</td>\n",
              "      <td>No</td>\n",
              "      <td>NaN</td>\n",
              "      <td>NaN</td>\n",
              "      <td>8</td>\n",
              "      <td>NaN</td>\n",
              "      <td>4.0</td>\n",
              "      <td>Yes</td>\n",
              "      <td>NaN</td>\n",
              "      <td>No</td>\n",
              "      <td>NaN</td>\n",
              "      <td>NaN</td>\n",
              "      <td>No</td>\n",
              "      <td>No</td>\n",
              "      <td>NaN</td>\n",
              "      <td>No</td>\n",
              "    </tr>\n",
              "    <tr>\n",
              "      <th>3</th>\n",
              "      <td>Granite Northland Associates</td>\n",
              "      <td>Doreen Wyman</td>\n",
              "      <td>175000</td>\n",
              "      <td>CL</td>\n",
              "      <td>46 Kilton Road</td>\n",
              "      <td>Canaan</td>\n",
              "      <td>4092897</td>\n",
              "      <td>Single Family</td>\n",
              "      <td>NH</td>\n",
              "      <td>NH-Grafton</td>\n",
              "      <td>2011-09-13</td>\n",
              "      <td>3</td>\n",
              "      <td>2</td>\n",
              "      <td>1673.0</td>\n",
              "      <td>572</td>\n",
              "      <td>282702.362052</td>\n",
              "      <td>2010.000000</td>\n",
              "      <td>175000</td>\n",
              "      <td>175000</td>\n",
              "      <td>18</td>\n",
              "      <td>219900</td>\n",
              "      <td>4040</td>\n",
              "      <td>2013-06-03</td>\n",
              "      <td>4.10</td>\n",
              "      <td>Detached</td>\n",
              "      <td>1900.0</td>\n",
              "      <td>1.5</td>\n",
              "      <td>Unknown</td>\n",
              "      <td>NaN</td>\n",
              "      <td>No</td>\n",
              "      <td>NaN</td>\n",
              "      <td>NaN</td>\n",
              "      <td>8</td>\n",
              "      <td>NaN</td>\n",
              "      <td>2.0</td>\n",
              "      <td>Yes</td>\n",
              "      <td>No</td>\n",
              "      <td>No</td>\n",
              "      <td>NaN</td>\n",
              "      <td>NaN</td>\n",
              "      <td>NaN</td>\n",
              "      <td>No</td>\n",
              "      <td>NaN</td>\n",
              "      <td>Yes</td>\n",
              "    </tr>\n",
              "    <tr>\n",
              "      <th>4</th>\n",
              "      <td>Vanessa Stone Real Estate</td>\n",
              "      <td>Vanessa Stone</td>\n",
              "      <td>259900</td>\n",
              "      <td>CL</td>\n",
              "      <td>16 Gould Rd</td>\n",
              "      <td>Canaan</td>\n",
              "      <td>4103231</td>\n",
              "      <td>Single Family</td>\n",
              "      <td>NH</td>\n",
              "      <td>NH-Grafton</td>\n",
              "      <td>2011-10-24</td>\n",
              "      <td>4</td>\n",
              "      <td>3</td>\n",
              "      <td>3221.0</td>\n",
              "      <td>409</td>\n",
              "      <td>273300.000000</td>\n",
              "      <td>2011.000000</td>\n",
              "      <td>259900</td>\n",
              "      <td>259900</td>\n",
              "      <td>24</td>\n",
              "      <td>264900</td>\n",
              "      <td>6379</td>\n",
              "      <td>2013-05-15</td>\n",
              "      <td>2.00</td>\n",
              "      <td>Under</td>\n",
              "      <td>1980.0</td>\n",
              "      <td>2</td>\n",
              "      <td>Yes</td>\n",
              "      <td>NaN</td>\n",
              "      <td>No</td>\n",
              "      <td>NaN</td>\n",
              "      <td>NaN</td>\n",
              "      <td>12</td>\n",
              "      <td>NaN</td>\n",
              "      <td>2.0</td>\n",
              "      <td>Yes</td>\n",
              "      <td>No</td>\n",
              "      <td>Unknown</td>\n",
              "      <td>NaN</td>\n",
              "      <td>NaN</td>\n",
              "      <td>No</td>\n",
              "      <td>Unknown</td>\n",
              "      <td>Walkout</td>\n",
              "      <td>Yes</td>\n",
              "    </tr>\n",
              "  </tbody>\n",
              "</table>\n",
              "</div>"
            ],
            "text/plain": [
              "     Listing_Office_Office_Name  ... Basement\n",
              "0  Granite Northland Associates  ...      Yes\n",
              "1     Vanessa Stone Real Estate  ...      Yes\n",
              "2     Vanessa Stone Real Estate  ...       No\n",
              "3  Granite Northland Associates  ...      Yes\n",
              "4     Vanessa Stone Real Estate  ...      Yes\n",
              "\n",
              "[5 rows x 44 columns]"
            ]
          },
          "metadata": {},
          "execution_count": 28
        }
      ]
    },
    {
      "cell_type": "code",
      "metadata": {
        "colab": {
          "base_uri": "https://localhost:8080/"
        },
        "id": "0MHSMzctB4Bq",
        "outputId": "791cd3df-7957-40d9-8e56-18677467ab98"
      },
      "source": [
        "data.shape"
      ],
      "execution_count": null,
      "outputs": [
        {
          "output_type": "execute_result",
          "data": {
            "text/plain": [
              "(6019, 44)"
            ]
          },
          "metadata": {},
          "execution_count": 29
        }
      ]
    },
    {
      "cell_type": "code",
      "metadata": {
        "id": "jheCZla8B4hs"
      },
      "source": [
        ""
      ],
      "execution_count": null,
      "outputs": []
    },
    {
      "cell_type": "markdown",
      "metadata": {
        "id": "cYCsxfCjB94c"
      },
      "source": [
        "# Consider object Datatypes in databsae Third"
      ]
    },
    {
      "cell_type": "code",
      "metadata": {
        "id": "nk803xYCB4ks"
      },
      "source": [
        "object_cols = list(data.select_dtypes('object').columns)"
      ],
      "execution_count": null,
      "outputs": []
    },
    {
      "cell_type": "code",
      "metadata": {
        "colab": {
          "base_uri": "https://localhost:8080/"
        },
        "id": "5r3UPPj8CB2X",
        "outputId": "b55cd07a-2bb7-4753-c9a0-ecf2f25da014"
      },
      "source": [
        "object_cols"
      ],
      "execution_count": null,
      "outputs": [
        {
          "output_type": "execute_result",
          "data": {
            "text/plain": [
              "['Listing_Office_Office_Name',\n",
              " 'List Agent_Agent Name',\n",
              " 'Status',\n",
              " 'Address',\n",
              " 'City',\n",
              " 'Property_Type',\n",
              " 'State',\n",
              " 'County',\n",
              " ' Price_Original ',\n",
              " ' Tax - Gross Amount ',\n",
              " 'Garage Type',\n",
              " 'Total Stories',\n",
              " 'Surveyed',\n",
              " 'Showing Service',\n",
              " 'Seasonal',\n",
              " 'Water Body Type',\n",
              " 'Short Sale',\n",
              " 'Rented',\n",
              " 'Garage',\n",
              " 'Foreclosed/Bank-Owned/REO',\n",
              " 'Flood Zone',\n",
              " 'Easements',\n",
              " 'Development / Subdivision',\n",
              " 'Current Use',\n",
              " 'Covenants',\n",
              " 'Basement Access Type',\n",
              " 'Basement']"
            ]
          },
          "metadata": {},
          "execution_count": 31
        }
      ]
    },
    {
      "cell_type": "code",
      "metadata": {
        "colab": {
          "base_uri": "https://localhost:8080/"
        },
        "id": "fAU2usgpCFLI",
        "outputId": "3541c1d0-212d-45c7-b580-42280cd15e1f"
      },
      "source": [
        "data.isnull().sum()"
      ],
      "execution_count": null,
      "outputs": [
        {
          "output_type": "execute_result",
          "data": {
            "text/plain": [
              "Listing_Office_Office_Name       0\n",
              "List Agent_Agent Name            0\n",
              "Price                            0\n",
              "Status                           0\n",
              "Address                          0\n",
              "City                             0\n",
              "MLS #                            0\n",
              "Property_Type                    0\n",
              "State                            0\n",
              "County                           0\n",
              "Date - MLS List                  0\n",
              "Bedrooms _Total                  0\n",
              "Baths _Total                     0\n",
              "SqFtTotFn                        0\n",
              "DOM                              0\n",
              "Assessment_Amount                0\n",
              "Assessment_Year                  0\n",
              "Price _Closed                    0\n",
              "Price_List                       0\n",
              "PicCount                         0\n",
              " Price_Original                  0\n",
              " Tax - Gross Amount             76\n",
              "Date - Closed                    0\n",
              "Lot - Acres                     51\n",
              "Garage Type                   2102\n",
              "Year Built                       0\n",
              "Total Stories                    1\n",
              "Surveyed                         7\n",
              "Showing Service               5869\n",
              "Seasonal                         2\n",
              "Water Body Type               5099\n",
              "Short Sale                    2127\n",
              "Rooms - Total                    0\n",
              "Rented                        5947\n",
              "Garage Capacity                  0\n",
              "Garage                           2\n",
              "Foreclosed/Bank-Owned/REO      701\n",
              "Flood Zone                       2\n",
              "Easements                     5695\n",
              "Development / Subdivision     4787\n",
              "Current Use                   3331\n",
              "Covenants                        2\n",
              "Basement Access Type          1653\n",
              "Basement                        73\n",
              "dtype: int64"
            ]
          },
          "metadata": {},
          "execution_count": 32
        }
      ]
    },
    {
      "cell_type": "code",
      "metadata": {
        "id": "4PqZqkz5CHZH"
      },
      "source": [
        ""
      ],
      "execution_count": null,
      "outputs": []
    },
    {
      "cell_type": "markdown",
      "metadata": {
        "id": "mCQYudc2CKA3"
      },
      "source": [
        "# Removing Columns"
      ]
    },
    {
      "cell_type": "code",
      "metadata": {
        "id": "Sd79nH02CK9z"
      },
      "source": [
        "data.drop(['Showing Service','Water Body Type','Development / Subdivision'],inplace=True,axis=1)"
      ],
      "execution_count": null,
      "outputs": []
    },
    {
      "cell_type": "code",
      "metadata": {
        "colab": {
          "base_uri": "https://localhost:8080/",
          "height": 442
        },
        "id": "kHIgqngiCNAh",
        "outputId": "5bf06b3e-a963-4f8c-96cb-a38f646c9f7a"
      },
      "source": [
        "data.head()"
      ],
      "execution_count": null,
      "outputs": [
        {
          "output_type": "execute_result",
          "data": {
            "text/html": [
              "<div>\n",
              "<style scoped>\n",
              "    .dataframe tbody tr th:only-of-type {\n",
              "        vertical-align: middle;\n",
              "    }\n",
              "\n",
              "    .dataframe tbody tr th {\n",
              "        vertical-align: top;\n",
              "    }\n",
              "\n",
              "    .dataframe thead th {\n",
              "        text-align: right;\n",
              "    }\n",
              "</style>\n",
              "<table border=\"1\" class=\"dataframe\">\n",
              "  <thead>\n",
              "    <tr style=\"text-align: right;\">\n",
              "      <th></th>\n",
              "      <th>Listing_Office_Office_Name</th>\n",
              "      <th>List Agent_Agent Name</th>\n",
              "      <th>Price</th>\n",
              "      <th>Status</th>\n",
              "      <th>Address</th>\n",
              "      <th>City</th>\n",
              "      <th>MLS #</th>\n",
              "      <th>Property_Type</th>\n",
              "      <th>State</th>\n",
              "      <th>County</th>\n",
              "      <th>Date - MLS List</th>\n",
              "      <th>Bedrooms _Total</th>\n",
              "      <th>Baths _Total</th>\n",
              "      <th>SqFtTotFn</th>\n",
              "      <th>DOM</th>\n",
              "      <th>Assessment_Amount</th>\n",
              "      <th>Assessment_Year</th>\n",
              "      <th>Price _Closed</th>\n",
              "      <th>Price_List</th>\n",
              "      <th>PicCount</th>\n",
              "      <th>Price_Original</th>\n",
              "      <th>Tax - Gross Amount</th>\n",
              "      <th>Date - Closed</th>\n",
              "      <th>Lot - Acres</th>\n",
              "      <th>Garage Type</th>\n",
              "      <th>Year Built</th>\n",
              "      <th>Total Stories</th>\n",
              "      <th>Surveyed</th>\n",
              "      <th>Seasonal</th>\n",
              "      <th>Short Sale</th>\n",
              "      <th>Rooms - Total</th>\n",
              "      <th>Rented</th>\n",
              "      <th>Garage Capacity</th>\n",
              "      <th>Garage</th>\n",
              "      <th>Foreclosed/Bank-Owned/REO</th>\n",
              "      <th>Flood Zone</th>\n",
              "      <th>Easements</th>\n",
              "      <th>Current Use</th>\n",
              "      <th>Covenants</th>\n",
              "      <th>Basement Access Type</th>\n",
              "      <th>Basement</th>\n",
              "    </tr>\n",
              "  </thead>\n",
              "  <tbody>\n",
              "    <tr>\n",
              "      <th>0</th>\n",
              "      <td>Granite Northland Associates</td>\n",
              "      <td>Doreen Wyman</td>\n",
              "      <td>198500</td>\n",
              "      <td>CL</td>\n",
              "      <td>668 NH ROUTE 118</td>\n",
              "      <td>Canaan</td>\n",
              "      <td>4043956</td>\n",
              "      <td>Single Family</td>\n",
              "      <td>NH</td>\n",
              "      <td>NH-Grafton</td>\n",
              "      <td>2011-02-08</td>\n",
              "      <td>3</td>\n",
              "      <td>2</td>\n",
              "      <td>1144.0</td>\n",
              "      <td>520</td>\n",
              "      <td>282702.362052</td>\n",
              "      <td>2010.000000</td>\n",
              "      <td>198500</td>\n",
              "      <td>199900</td>\n",
              "      <td>18</td>\n",
              "      <td>229900</td>\n",
              "      <td>4292</td>\n",
              "      <td>2012-08-23</td>\n",
              "      <td>1.09</td>\n",
              "      <td>NaN</td>\n",
              "      <td>2007.0</td>\n",
              "      <td>1</td>\n",
              "      <td>Yes</td>\n",
              "      <td>No</td>\n",
              "      <td>NaN</td>\n",
              "      <td>5</td>\n",
              "      <td>NaN</td>\n",
              "      <td>0.0</td>\n",
              "      <td>No</td>\n",
              "      <td>NaN</td>\n",
              "      <td>No</td>\n",
              "      <td>NaN</td>\n",
              "      <td>No</td>\n",
              "      <td>No</td>\n",
              "      <td>Walkout</td>\n",
              "      <td>Yes</td>\n",
              "    </tr>\n",
              "    <tr>\n",
              "      <th>1</th>\n",
              "      <td>Vanessa Stone Real Estate</td>\n",
              "      <td>Vanessa Stone</td>\n",
              "      <td>130000</td>\n",
              "      <td>CL</td>\n",
              "      <td>157 Follensbee Rd</td>\n",
              "      <td>Canaan</td>\n",
              "      <td>4090057</td>\n",
              "      <td>Single Family</td>\n",
              "      <td>NH</td>\n",
              "      <td>NH-Grafton</td>\n",
              "      <td>2011-08-29</td>\n",
              "      <td>4</td>\n",
              "      <td>2</td>\n",
              "      <td>2304.0</td>\n",
              "      <td>275</td>\n",
              "      <td>146100.000000</td>\n",
              "      <td>2000.179499</td>\n",
              "      <td>130000</td>\n",
              "      <td>139900</td>\n",
              "      <td>8</td>\n",
              "      <td>145000</td>\n",
              "      <td>3410</td>\n",
              "      <td>2012-06-29</td>\n",
              "      <td>1.00</td>\n",
              "      <td>NaN</td>\n",
              "      <td>1973.0</td>\n",
              "      <td>2</td>\n",
              "      <td>Unknown</td>\n",
              "      <td>No</td>\n",
              "      <td>NaN</td>\n",
              "      <td>8</td>\n",
              "      <td>NaN</td>\n",
              "      <td>0.0</td>\n",
              "      <td>No</td>\n",
              "      <td>NaN</td>\n",
              "      <td>No</td>\n",
              "      <td>NaN</td>\n",
              "      <td>No</td>\n",
              "      <td>No</td>\n",
              "      <td>Walkout</td>\n",
              "      <td>Yes</td>\n",
              "    </tr>\n",
              "    <tr>\n",
              "      <th>2</th>\n",
              "      <td>Vanessa Stone Real Estate</td>\n",
              "      <td>Vanessa Stone</td>\n",
              "      <td>349900</td>\n",
              "      <td>CL</td>\n",
              "      <td>142 Wescott Road</td>\n",
              "      <td>Canaan</td>\n",
              "      <td>4091600</td>\n",
              "      <td>Single Family</td>\n",
              "      <td>NH</td>\n",
              "      <td>NH-Grafton</td>\n",
              "      <td>2011-09-07</td>\n",
              "      <td>4</td>\n",
              "      <td>2</td>\n",
              "      <td>2100.0</td>\n",
              "      <td>377</td>\n",
              "      <td>291100.000000</td>\n",
              "      <td>2000.179499</td>\n",
              "      <td>349900</td>\n",
              "      <td>349900</td>\n",
              "      <td>24</td>\n",
              "      <td>369500</td>\n",
              "      <td>6794</td>\n",
              "      <td>2012-10-29</td>\n",
              "      <td>18.00</td>\n",
              "      <td>Attached</td>\n",
              "      <td>2003.0</td>\n",
              "      <td>2</td>\n",
              "      <td>Yes</td>\n",
              "      <td>No</td>\n",
              "      <td>NaN</td>\n",
              "      <td>8</td>\n",
              "      <td>NaN</td>\n",
              "      <td>4.0</td>\n",
              "      <td>Yes</td>\n",
              "      <td>NaN</td>\n",
              "      <td>No</td>\n",
              "      <td>NaN</td>\n",
              "      <td>No</td>\n",
              "      <td>No</td>\n",
              "      <td>NaN</td>\n",
              "      <td>No</td>\n",
              "    </tr>\n",
              "    <tr>\n",
              "      <th>3</th>\n",
              "      <td>Granite Northland Associates</td>\n",
              "      <td>Doreen Wyman</td>\n",
              "      <td>175000</td>\n",
              "      <td>CL</td>\n",
              "      <td>46 Kilton Road</td>\n",
              "      <td>Canaan</td>\n",
              "      <td>4092897</td>\n",
              "      <td>Single Family</td>\n",
              "      <td>NH</td>\n",
              "      <td>NH-Grafton</td>\n",
              "      <td>2011-09-13</td>\n",
              "      <td>3</td>\n",
              "      <td>2</td>\n",
              "      <td>1673.0</td>\n",
              "      <td>572</td>\n",
              "      <td>282702.362052</td>\n",
              "      <td>2010.000000</td>\n",
              "      <td>175000</td>\n",
              "      <td>175000</td>\n",
              "      <td>18</td>\n",
              "      <td>219900</td>\n",
              "      <td>4040</td>\n",
              "      <td>2013-06-03</td>\n",
              "      <td>4.10</td>\n",
              "      <td>Detached</td>\n",
              "      <td>1900.0</td>\n",
              "      <td>1.5</td>\n",
              "      <td>Unknown</td>\n",
              "      <td>No</td>\n",
              "      <td>NaN</td>\n",
              "      <td>8</td>\n",
              "      <td>NaN</td>\n",
              "      <td>2.0</td>\n",
              "      <td>Yes</td>\n",
              "      <td>No</td>\n",
              "      <td>No</td>\n",
              "      <td>NaN</td>\n",
              "      <td>NaN</td>\n",
              "      <td>No</td>\n",
              "      <td>NaN</td>\n",
              "      <td>Yes</td>\n",
              "    </tr>\n",
              "    <tr>\n",
              "      <th>4</th>\n",
              "      <td>Vanessa Stone Real Estate</td>\n",
              "      <td>Vanessa Stone</td>\n",
              "      <td>259900</td>\n",
              "      <td>CL</td>\n",
              "      <td>16 Gould Rd</td>\n",
              "      <td>Canaan</td>\n",
              "      <td>4103231</td>\n",
              "      <td>Single Family</td>\n",
              "      <td>NH</td>\n",
              "      <td>NH-Grafton</td>\n",
              "      <td>2011-10-24</td>\n",
              "      <td>4</td>\n",
              "      <td>3</td>\n",
              "      <td>3221.0</td>\n",
              "      <td>409</td>\n",
              "      <td>273300.000000</td>\n",
              "      <td>2011.000000</td>\n",
              "      <td>259900</td>\n",
              "      <td>259900</td>\n",
              "      <td>24</td>\n",
              "      <td>264900</td>\n",
              "      <td>6379</td>\n",
              "      <td>2013-05-15</td>\n",
              "      <td>2.00</td>\n",
              "      <td>Under</td>\n",
              "      <td>1980.0</td>\n",
              "      <td>2</td>\n",
              "      <td>Yes</td>\n",
              "      <td>No</td>\n",
              "      <td>NaN</td>\n",
              "      <td>12</td>\n",
              "      <td>NaN</td>\n",
              "      <td>2.0</td>\n",
              "      <td>Yes</td>\n",
              "      <td>No</td>\n",
              "      <td>Unknown</td>\n",
              "      <td>NaN</td>\n",
              "      <td>No</td>\n",
              "      <td>Unknown</td>\n",
              "      <td>Walkout</td>\n",
              "      <td>Yes</td>\n",
              "    </tr>\n",
              "  </tbody>\n",
              "</table>\n",
              "</div>"
            ],
            "text/plain": [
              "     Listing_Office_Office_Name  ... Basement\n",
              "0  Granite Northland Associates  ...      Yes\n",
              "1     Vanessa Stone Real Estate  ...      Yes\n",
              "2     Vanessa Stone Real Estate  ...       No\n",
              "3  Granite Northland Associates  ...      Yes\n",
              "4     Vanessa Stone Real Estate  ...      Yes\n",
              "\n",
              "[5 rows x 41 columns]"
            ]
          },
          "metadata": {},
          "execution_count": 34
        }
      ]
    },
    {
      "cell_type": "code",
      "metadata": {
        "colab": {
          "base_uri": "https://localhost:8080/"
        },
        "id": "M6_XMS8WCOcT",
        "outputId": "0ac9c8d1-8efa-4789-888d-701896e5b6de"
      },
      "source": [
        "\n",
        "data.shape  "
      ],
      "execution_count": null,
      "outputs": [
        {
          "output_type": "execute_result",
          "data": {
            "text/plain": [
              "(6019, 41)"
            ]
          },
          "metadata": {},
          "execution_count": 35
        }
      ]
    },
    {
      "cell_type": "code",
      "metadata": {
        "colab": {
          "base_uri": "https://localhost:8080/"
        },
        "id": "o9t3-bO9CQ8l",
        "outputId": "872bc0b2-8c46-4974-da7d-01a4a883c4f4"
      },
      "source": [
        "type(data)"
      ],
      "execution_count": null,
      "outputs": [
        {
          "output_type": "execute_result",
          "data": {
            "text/plain": [
              "pandas.core.frame.DataFrame"
            ]
          },
          "metadata": {},
          "execution_count": 36
        }
      ]
    },
    {
      "cell_type": "code",
      "metadata": {
        "id": "BuUnh7UtCSYn"
      },
      "source": [
        "object_cols = data.copy()"
      ],
      "execution_count": null,
      "outputs": []
    },
    {
      "cell_type": "code",
      "metadata": {
        "id": "E5K5EdLnCUFK"
      },
      "source": [
        "\n",
        "for i in object_cols:\n",
        "    data[i].fillna(\"NULL\",inplace=True)"
      ],
      "execution_count": null,
      "outputs": []
    },
    {
      "cell_type": "code",
      "metadata": {
        "colab": {
          "base_uri": "https://localhost:8080/"
        },
        "id": "S8_qsi6XCWg5",
        "outputId": "53e652f9-8a3a-4a8f-a38e-1f3e2b978d41"
      },
      "source": [
        "data.isnull().sum()"
      ],
      "execution_count": null,
      "outputs": [
        {
          "output_type": "execute_result",
          "data": {
            "text/plain": [
              "Listing_Office_Office_Name    0\n",
              "List Agent_Agent Name         0\n",
              "Price                         0\n",
              "Status                        0\n",
              "Address                       0\n",
              "City                          0\n",
              "MLS #                         0\n",
              "Property_Type                 0\n",
              "State                         0\n",
              "County                        0\n",
              "Date - MLS List               0\n",
              "Bedrooms _Total               0\n",
              "Baths _Total                  0\n",
              "SqFtTotFn                     0\n",
              "DOM                           0\n",
              "Assessment_Amount             0\n",
              "Assessment_Year               0\n",
              "Price _Closed                 0\n",
              "Price_List                    0\n",
              "PicCount                      0\n",
              " Price_Original               0\n",
              " Tax - Gross Amount           0\n",
              "Date - Closed                 0\n",
              "Lot - Acres                   0\n",
              "Garage Type                   0\n",
              "Year Built                    0\n",
              "Total Stories                 0\n",
              "Surveyed                      0\n",
              "Seasonal                      0\n",
              "Short Sale                    0\n",
              "Rooms - Total                 0\n",
              "Rented                        0\n",
              "Garage Capacity               0\n",
              "Garage                        0\n",
              "Foreclosed/Bank-Owned/REO     0\n",
              "Flood Zone                    0\n",
              "Easements                     0\n",
              "Current Use                   0\n",
              "Covenants                     0\n",
              "Basement Access Type          0\n",
              "Basement                      0\n",
              "dtype: int64"
            ]
          },
          "metadata": {},
          "execution_count": 39
        }
      ]
    },
    {
      "cell_type": "code",
      "metadata": {
        "id": "30FNywTBCXy8"
      },
      "source": [
        "data.to_csv('complete.csv')"
      ],
      "execution_count": null,
      "outputs": []
    },
    {
      "cell_type": "code",
      "metadata": {
        "colab": {
          "base_uri": "https://localhost:8080/"
        },
        "id": "kYGes96wCZzI",
        "outputId": "a57b1264-1c2f-4075-affd-ee286ff1ebe6"
      },
      "source": [
        "data.shape"
      ],
      "execution_count": null,
      "outputs": [
        {
          "output_type": "execute_result",
          "data": {
            "text/plain": [
              "(6019, 41)"
            ]
          },
          "metadata": {},
          "execution_count": 41
        }
      ]
    },
    {
      "cell_type": "markdown",
      "metadata": {
        "id": "Gs6VU8F3DBhW"
      },
      "source": [
        "# questions"
      ]
    },
    {
      "cell_type": "code",
      "metadata": {
        "colab": {
          "base_uri": "https://localhost:8080/",
          "height": 1000
        },
        "id": "lj_dIJYXCa_k",
        "outputId": "9774257b-499e-4a12-e861-8e3a6f3b7560"
      },
      "source": [
        "  # 1)\n",
        "cnt = data.pivot_table(columns='List Agent_Agent Name',aggfunc='size')\n",
        "a = cnt.sort_values(ascending=False)\n",
        "a.head()"
      ],
      "execution_count": null,
      "outputs": [
        {
          "output_type": "error",
          "ename": "NameError",
          "evalue": "ignored",
          "traceback": [
            "\u001b[0;31m---------------------------------------------------------------------------\u001b[0m",
            "\u001b[0;31mNameError\u001b[0m                                 Traceback (most recent call last)",
            "\u001b[0;32m<ipython-input-1-5a2391f7940c>\u001b[0m in \u001b[0;36m<module>\u001b[0;34m()\u001b[0m\n\u001b[1;32m      1\u001b[0m \u001b[0;31m# 1)\u001b[0m\u001b[0;34m\u001b[0m\u001b[0;34m\u001b[0m\u001b[0;34m\u001b[0m\u001b[0m\n\u001b[0;32m----> 2\u001b[0;31m \u001b[0mcnt\u001b[0m \u001b[0;34m=\u001b[0m \u001b[0mdata\u001b[0m\u001b[0;34m.\u001b[0m\u001b[0mpivot_table\u001b[0m\u001b[0;34m(\u001b[0m\u001b[0mcolumns\u001b[0m\u001b[0;34m=\u001b[0m\u001b[0;34m'List Agent_Agent Name'\u001b[0m\u001b[0;34m,\u001b[0m\u001b[0maggfunc\u001b[0m\u001b[0;34m=\u001b[0m\u001b[0;34m'size'\u001b[0m\u001b[0;34m)\u001b[0m\u001b[0;34m\u001b[0m\u001b[0;34m\u001b[0m\u001b[0m\n\u001b[0m\u001b[1;32m      3\u001b[0m \u001b[0ma\u001b[0m \u001b[0;34m=\u001b[0m \u001b[0mcnt\u001b[0m\u001b[0;34m.\u001b[0m\u001b[0msort_values\u001b[0m\u001b[0;34m(\u001b[0m\u001b[0mascending\u001b[0m\u001b[0;34m=\u001b[0m\u001b[0;32mFalse\u001b[0m\u001b[0;34m)\u001b[0m\u001b[0;34m\u001b[0m\u001b[0;34m\u001b[0m\u001b[0m\n\u001b[1;32m      4\u001b[0m \u001b[0ma\u001b[0m\u001b[0;34m.\u001b[0m\u001b[0mhead\u001b[0m\u001b[0;34m(\u001b[0m\u001b[0;34m)\u001b[0m\u001b[0;34m\u001b[0m\u001b[0;34m\u001b[0m\u001b[0m\n",
            "\u001b[0;31mNameError\u001b[0m: name 'data' is not defined"
          ]
        }
      ]
    },
    {
      "cell_type": "code",
      "metadata": {
        "id": "OJnzPQ0nDPdv"
      },
      "source": [
        "type(a)"
      ],
      "execution_count": null,
      "outputs": []
    },
    {
      "cell_type": "code",
      "metadata": {
        "id": "-qJS7HuYDkOV"
      },
      "source": [
        "x = a.index[:5]\n",
        "y = a.values[:5]\n",
        "print(y)\n",
        "print(x)"
      ],
      "execution_count": null,
      "outputs": []
    },
    {
      "cell_type": "code",
      "metadata": {
        "id": "nmBevBvREWHP"
      },
      "source": [
        "plt.bar(x,y)\n",
        "plt.xticks(x, rotation='vertical')\n",
        "plt.plot()"
      ],
      "execution_count": null,
      "outputs": []
    },
    {
      "cell_type": "code",
      "metadata": {
        "id": "i6XRuO1yFPHQ"
      },
      "source": [
        "# 2 Year wise average price of property\n",
        "precip_by_season=data.groupby([\"Year Built\"])[[\"Price\"]].mean()\n",
        "\n",
        "precip_by_season\n",
        "x = precip_by_season.index\n",
        "y = precip_by_season['Price'].values\n",
        "print(x)\n",
        "print(y)\n"
      ],
      "execution_count": null,
      "outputs": []
    },
    {
      "cell_type": "code",
      "metadata": {
        "id": "ZqeCYYhrGhQz"
      },
      "source": [
        "# sns.set_theme(style=\"whitegrid\")\n",
        "\n",
        "# # Initialize the matplotlib figure\n",
        "# f, ax = plt.subplots(figsize=(6, 15))\n",
        "# sns.barplot(x = y , y = x,label=\"Total\", color=\"b\")\n",
        "from matplotlib.pyplot import figure\n",
        "\n",
        "figure(figsize=(12, 6), dpi=80)\n",
        "plt.bar(x,y)\n",
        "plt.show()"
      ],
      "execution_count": null,
      "outputs": []
    },
    {
      "cell_type": "code",
      "metadata": {
        "id": "q9sWNxzrYJGs"
      },
      "source": [
        "#3)\tHanover city’s property price per square feet\n",
        "han_ov = data[data.City == 'Hanover'][['Year Built','Price','SqFtTotFn']]\n",
        "han_ov['property price per square feet'] = (han_ov.Price / han_ov.SqFtTotFn)\n",
        "han_ov.head()\n",
        "\n"
      ],
      "execution_count": null,
      "outputs": []
    },
    {
      "cell_type": "code",
      "metadata": {
        "id": "179qHOhTaNds"
      },
      "source": [
        "x = han_ov['Year Built'].values\n",
        "x"
      ],
      "execution_count": null,
      "outputs": []
    },
    {
      "cell_type": "code",
      "metadata": {
        "id": "tf1ZecujY24T"
      },
      "source": [
        "y = han_ov['property price per square feet'].values\n",
        "y"
      ],
      "execution_count": null,
      "outputs": []
    },
    {
      "cell_type": "code",
      "metadata": {
        "id": "vZSYObQ9f0e2"
      },
      "source": [
        ""
      ],
      "execution_count": null,
      "outputs": []
    },
    {
      "cell_type": "code",
      "metadata": {
        "id": "LB81dMfwgCqQ"
      },
      "source": [
        "data_han =h_hanover.loc[(h_hanover.index >=2008)]\n",
        "data_reset = data_han.reset_index()"
      ],
      "execution_count": null,
      "outputs": []
    },
    {
      "cell_type": "code",
      "metadata": {
        "id": "bcWY3DWZgHeN"
      },
      "source": [
        "data_reset\n"
      ],
      "execution_count": null,
      "outputs": []
    },
    {
      "cell_type": "code",
      "metadata": {
        "id": "E5s8mDz5gJMK"
      },
      "source": [
        ""
      ],
      "execution_count": null,
      "outputs": []
    },
    {
      "cell_type": "code",
      "metadata": {
        "id": "Vpmt_uf7ZHGD"
      },
      "source": [
        "x0 = data_reset['Year Built']\n",
        "y0 = data_reset['Hanover_avg_price_sqft']\n",
        "\n",
        "plt.bar(x0,y0)\n",
        "plt.xlabel(\"Years\")\n",
        "plt.ylabel(\"per_square\")\n",
        "plt.title(\"hanover_price_per_sqft\")\n",
        "plt.show()"
      ],
      "execution_count": null,
      "outputs": []
    },
    {
      "cell_type": "code",
      "metadata": {
        "id": "cUSFR2d3ZHIt"
      },
      "source": [
        ""
      ],
      "execution_count": null,
      "outputs": []
    },
    {
      "cell_type": "code",
      "metadata": {
        "id": "2XAQG8DBG5PB"
      },
      "source": [
        "# 7) Hanover cityâ€™s property price per square feet\n",
        "han_r = data[data.City == 'Hanover'][['Year Built','Price','SqFtTotFn']]\n",
        "han_r['Hanover_avg_price_sqft'] = (han_r.Price / han_r.SqFtTotFn)\n",
        "han_r.head()\n"
      ],
      "execution_count": null,
      "outputs": []
    },
    {
      "cell_type": "code",
      "metadata": {
        "id": "jThAMg_mUXbK"
      },
      "source": [
        "h_hanover=han_r.groupby([\"Year Built\"])[[\"Hanover_avg_price_sqft\"]].mean()\n",
        "h_hanover.head()"
      ],
      "execution_count": null,
      "outputs": []
    },
    {
      "cell_type": "code",
      "metadata": {
        "id": "I1yC5ju2UXgu"
      },
      "source": [
        ""
      ],
      "execution_count": null,
      "outputs": []
    },
    {
      "cell_type": "code",
      "metadata": {
        "id": "_UchMf0cUDJu"
      },
      "source": [
        "data_han =h_hanover.loc[(h_hanover.index >=2008)]\n",
        "data_han.head()"
      ],
      "execution_count": null,
      "outputs": []
    },
    {
      "cell_type": "code",
      "metadata": {
        "id": "mLcxTAdLNoXG"
      },
      "source": [
        "\n",
        "x11 = data_han.index\n",
        "y11 = data_han['Hanover_avg_price_sqft'].values\n",
        "plt.bar(x11,y11)\n",
        "plt.xlabel(\"Years\")\n",
        "plt.ylabel(\"per_square\")\n",
        "plt.title(\"hanover_avg_price_per_sqft\")\n",
        "plt.show()"
      ],
      "execution_count": null,
      "outputs": []
    },
    {
      "cell_type": "code",
      "metadata": {
        "id": "JJUHsiktSMGe"
      },
      "source": [
        "# 5) Enfield city average price per square feet\n",
        "han_r = data[data.City == 'Enfield'][['Year Built','Price','SqFtTotFn']]\n",
        "han_r['Enfield_avg_price_sqft'] = (han_r.Price / han_r.SqFtTotFn)\n",
        "enf=han_r.groupby([\"Year Built\"])[[\"Enfield_avg_price_sqft\"]].mean()\n",
        "enf.head()\n",
        "data_enf=enf.loc[(enf.index >=2008)]\n",
        "data_enf.head()"
      ],
      "execution_count": null,
      "outputs": []
    },
    {
      "cell_type": "code",
      "metadata": {
        "id": "Xp0wZOk8Tefy"
      },
      "source": [
        "x1 = data_enf.index\n",
        "y1 = data_enf['Enfield_avg_price_sqft'].values\n",
        "plt.bar(x1,y1)\n",
        "plt.xlabel(\"Years\")\n",
        "plt.ylabel(\"per_square\")\n",
        "plt.title(\"Enfield_avg_price_per_sqft\")\n",
        "plt.show()"
      ],
      "execution_count": null,
      "outputs": []
    },
    {
      "cell_type": "code",
      "metadata": {
        "id": "1GAyfAmLQ6wn"
      },
      "source": [
        "# 8)Lebanon city average price per square feet\n",
        "Lea_b = data[data.City == 'Lebanon'][['Year Built','Price','SqFtTotFn']]\n",
        "Lea_b['Lebanon_avg_price_sqft'] = (Lea_b.Price / Lea_b.SqFtTotFn)\n",
        "lea=Lea_b.groupby([\"Year Built\"])[[\"Lebanon_avg_price_sqft\"]].mean()\n",
        "lea.head()\n",
        "data_lea=lea.loc[(lea.index >=2008)]\n",
        "data_lea.head()"
      ],
      "execution_count": null,
      "outputs": []
    },
    {
      "cell_type": "code",
      "metadata": {
        "id": "CJVQlJlmSh6z"
      },
      "source": [
        "x2 = data_lea.index\n",
        "y2 = data_lea['Lebanon_avg_price_sqft'].values\n",
        "\n",
        "plt.bar(x2,y2)\n",
        "plt.xlabel(\"Years\")\n",
        "plt.ylabel(\"per_square\")\n",
        "plt.title(\"Lebanon_avg_price_per_sqft\")\n",
        "plt.show()"
      ],
      "execution_count": null,
      "outputs": []
    },
    {
      "cell_type": "code",
      "metadata": {
        "id": "pqTCbps1Sw_Z"
      },
      "source": [
        "# 9) Grantham city’s average price per square feet\n",
        "gra_m = data[data.City == 'Grantham'][['Year Built','Price','SqFtTotFn']]\n",
        "gra_m['Grantham_avg_price_sqft'] = (gra_m.Price / gra_m.SqFtTotFn)\n",
        "Gra=gra_m.groupby([\"Year Built\"])[[\"Grantham_avg_price_sqft\"]].mean()\n",
        "Gra.head()\n",
        "data_Gra=Gra.loc[(Gra.index >=2008)]\n",
        "data_Gra.head()"
      ],
      "execution_count": null,
      "outputs": []
    },
    {
      "cell_type": "code",
      "metadata": {
        "id": "onPzSV_dT_8H"
      },
      "source": [
        "x3 = data_Gra.index\n",
        "y3 = data_Gra['Grantham_avg_price_sqft'].values\n",
        "\n",
        "plt.bar(x3,y3)\n",
        "plt.xlabel(\"Years\")\n",
        "plt.ylabel(\"per_square\")\n",
        "plt.title(\"Grantham_avg_price_per_sqft\")\n",
        "plt.show()"
      ],
      "execution_count": null,
      "outputs": []
    },
    {
      "cell_type": "code",
      "metadata": {
        "id": "P65wItQ5UVQI"
      },
      "source": [
        "# 10) Snapee city’s average price per square feet\n",
        "sna_p = data[data.City == 'Sunapee'][['Year Built','Price','SqFtTotFn']]\n",
        "sna_p ['Sunapee_avg_price_sqft'] = (sna_p .Price / sna_p .SqFtTotFn)\n",
        "sna=sna_p.groupby([\"Year Built\"])[[\"Sunapee_avg_price_sqft\"]].mean()\n",
        "sna.head()\n",
        "data_Sna=sna.loc[(sna.index >=2008)]\n",
        "data_Sna.head()"
      ],
      "execution_count": null,
      "outputs": []
    },
    {
      "cell_type": "code",
      "metadata": {
        "id": "W-ChZnBdUVrP"
      },
      "source": [
        "x4 = data_Sna.index\n",
        "y4 = data_Sna['Sunapee_avg_price_sqft'].values\n",
        "\n",
        "plt.bar(x4,y4)\n",
        "plt.xlabel(\"Years\")\n",
        "plt.ylabel(\"per_square\")\n",
        "plt.title(\"Sunapee_avg_price_per_sqft\")\n",
        "plt.show()"
      ],
      "execution_count": null,
      "outputs": []
    },
    {
      "cell_type": "code",
      "metadata": {
        "id": "5qbM8GYpUVts"
      },
      "source": [
        "# 11) Hartford city’s average price per square feet\n",
        "har_t = data[data.City == 'Hartford'][['Year Built','Price','SqFtTotFn']]\n",
        "har_t['Hartford_avg_price_sqft'] = (har_t.Price /har_t.SqFtTotFn)\n",
        "har=har_t.groupby([\"Year Built\"])[[\"Hartford_avg_price_sqft\"]].mean()\n",
        "har.head()\n",
        "data_Har=har.loc[(har.index >=2008)]\n",
        "data_Har.head()"
      ],
      "execution_count": null,
      "outputs": []
    },
    {
      "cell_type": "code",
      "metadata": {
        "id": "3vnOL45Dg854"
      },
      "source": [
        ""
      ],
      "execution_count": null,
      "outputs": []
    },
    {
      "cell_type": "code",
      "metadata": {
        "id": "3be80CHyUVvt"
      },
      "source": [
        "x5 = data_Har.index\n",
        "y5 = data_Har['Hartford_avg_price_sqft'].values\n",
        "plt.bar(x5,y5)\n",
        "plt.xlabel(\"Years\")\n",
        "plt.ylabel(\"per_square\")\n",
        "plt.title(\"Sunapee_avg_price_per_sqft\")\n",
        "plt.show()"
      ],
      "execution_count": null,
      "outputs": []
    },
    {
      "cell_type": "code",
      "metadata": {
        "id": "2uWwECXRX79B"
      },
      "source": [
        ""
      ],
      "execution_count": null,
      "outputs": []
    },
    {
      "cell_type": "code",
      "metadata": {
        "id": "T9MC4tHfX8Ag"
      },
      "source": [
        ""
      ],
      "execution_count": null,
      "outputs": []
    },
    {
      "cell_type": "code",
      "metadata": {
        "id": "Rv_HdHUfX8HK"
      },
      "source": [
        ""
      ],
      "execution_count": null,
      "outputs": []
    },
    {
      "cell_type": "code",
      "metadata": {
        "id": "s0bW10Rte_mD"
      },
      "source": [
        "data.head()"
      ],
      "execution_count": null,
      "outputs": []
    },
    {
      "cell_type": "code",
      "metadata": {
        "id": "kpdxhAIiX9ap"
      },
      "source": [
        "# 13) Enfield v/s Hanover city’s average price per square feet"
      ],
      "execution_count": null,
      "outputs": []
    },
    {
      "cell_type": "code",
      "metadata": {
        "id": "p7ZPxyzHb0Zk"
      },
      "source": [
        "han_r1 = data[data.City == 'Enfield'][['Price','SqFtTotFn']]\n",
        "han_r1['Enfield_avg_price_sqft'] = (han_r1.Price / han_r1.SqFtTotFn)\n",
        "han_r1.head()"
      ],
      "execution_count": null,
      "outputs": []
    },
    {
      "cell_type": "code",
      "metadata": {
        "id": "eXum05SKgh6d"
      },
      "source": [
        "x = []\n",
        "x1 = han_r1['Enfield_avg_price_sqft'].mean()\n",
        "x.append(x1)"
      ],
      "execution_count": null,
      "outputs": []
    },
    {
      "cell_type": "code",
      "metadata": {
        "id": "iJekDl_ogKnV"
      },
      "source": [
        "han_r2 = data[data.City == 'Hanover'][['Price','SqFtTotFn']]\n",
        "han_r2['Hanover_avg_price_sqft'] = (han_r2.Price / han_r2.SqFtTotFn)\n",
        "han_r2 = han_r2.replace(np.inf, np.nan)\n",
        "han_r2.head()"
      ],
      "execution_count": null,
      "outputs": []
    },
    {
      "cell_type": "code",
      "metadata": {
        "id": "tE4qaKPThDry"
      },
      "source": [
        "y = han_r2['Hanover_avg_price_sqft'].mean()\n",
        "x.append(y)"
      ],
      "execution_count": null,
      "outputs": []
    },
    {
      "cell_type": "code",
      "metadata": {
        "id": "DtOZdThKhIDq"
      },
      "source": [
        "y"
      ],
      "execution_count": null,
      "outputs": []
    },
    {
      "cell_type": "code",
      "metadata": {
        "id": "a-I2D88IhsT9"
      },
      "source": [
        "mylabels = [\"Enfield\", \"Hanover\"]\n",
        "plt.pie(x,labels=mylabels,autopct='%1.2f%%')\n",
        "plt.legend()\n",
        "plt.show()"
      ],
      "execution_count": null,
      "outputs": []
    },
    {
      "cell_type": "code",
      "metadata": {
        "id": "FgG5OpgvhxWd"
      },
      "source": [
        "fig=plt.figure()\n",
        "ax=fig.add_axes([0.1,0.1,0.8,0.8]) #here it's use to set figure axis add_axes(x0,y0,height,width) plt.xticks(rotation=80)\n",
        "plt.title(\"Hanover avg price per squre Vs Enfield avg price per squre\") \n",
        "plt.plot(x11,y11)\n",
        "plt.scatter(x11,y11)\n",
        "plt.plot(x1,y1)\n",
        "plt.scatter(x1,y1)\n",
        "plt.legend(labels=['Hanover','Enfield']) \n",
        "ax.set_ylim(ymin=10)\n",
        "plt.xlabel(\"years\")\n",
        "plt.ylabel(\"per square\") \n",
        "plt.show()"
      ],
      "execution_count": null,
      "outputs": []
    },
    {
      "cell_type": "code",
      "metadata": {
        "id": "G_rPo3qVceg5"
      },
      "source": [
        "# 12)\tHartford v/s Sunapee average price per square feet\n",
        "han_r1 = data[data.City == 'Hartford'][['Price','SqFtTotFn']]\n",
        "\n",
        "han_r1['Hartford_avg_price_sqft'] = (han_r1.Price / han_r1.SqFtTotFn)\n",
        "han_r1.head()\n",
        "\n",
        "x = []\n",
        "x1 = han_r1['Hartford_avg_price_sqft'].mean()\n",
        "x.append(x1)\n",
        "\n",
        "han_r2 = data[data.City == 'Sunapee'][['Price','SqFtTotFn']]\n",
        "\n",
        "han_r2['Sunapee_avg_price_sqft'] = (han_r2.Price / han_r2.SqFtTotFn)\n",
        "han_r2 = han_r2.replace(np.inf, np.nan)\n",
        "han_r2.head()\n",
        "\n",
        "y = han_r2['Sunapee_avg_price_sqft'].mean()\n",
        "x.append(y)\n",
        "\n",
        "\n",
        "mylabels = [\"Hartford\", \"Sunapee\"]\n",
        "plt.pie(x,labels=mylabels,autopct='%1.2f%%')\n",
        "plt.legend()\n",
        "plt.show()\n"
      ],
      "execution_count": null,
      "outputs": []
    },
    {
      "cell_type": "code",
      "metadata": {
        "id": "5UGsMMxqeOBI"
      },
      "source": [
        "fig=plt.figure()\n",
        "ax=fig.add_axes([0.1,0.1,0.8,0.8]) #here it's use to set figure axis add_axes(x0,y0,height,width) plt.xticks(rotation=80)\n",
        "plt.title(\"Hartford avg price per squre Vs Sunapee avg price per squre\") \n",
        "plt.plot(data_Har.index,data_Har['Hartford_avg_price_sqft'].values)\n",
        "plt.scatter(data_Har.index,data_Har['Hartford_avg_price_sqft'].values)\n",
        "plt.plot(data_Sna.index,data_Sna['Sunapee_avg_price_sqft'].values)\n",
        "plt.scatter(data_Sna.index,data_Sna['Sunapee_avg_price_sqft'].values)\n",
        "plt.legend(labels=['HartFord','Sunapee']) \n",
        "ax.set_ylim(ymin=10)\n",
        "plt.xlabel(\"years\")\n",
        "plt.ylabel(\"per square\") \n",
        "plt.show()"
      ],
      "execution_count": null,
      "outputs": []
    },
    {
      "cell_type": "code",
      "metadata": {
        "id": "c_ueaOBUn4hN"
      },
      "source": [
        "# 14)Lebanon v/s Grantham average price per square feet\n",
        "fig=plt.figure()\n",
        "ax=fig.add_axes([0.1,0.1,0.8,0.8]) #here it's use to set figure axis add_axes(x0,y0,height,width) plt.xticks(rotation=80)\n",
        "plt.title(\"Lebanon avg price per squre Vs Grantham avg price per squre\") \n",
        "plt.plot(x2,y2)\n",
        "plt.scatter(x2,y2)\n",
        "plt.plot(x3,y3)\n",
        "plt.scatter(x3,y3)\n",
        "plt.legend(labels=['Lebanon','Grantham']) \n",
        "ax.set_ylim(ymin=10)\n",
        "plt.xlabel(\"years\")\n",
        "plt.ylabel(\"per square\") \n",
        "plt.show()\n",
        "\n"
      ],
      "execution_count": null,
      "outputs": []
    },
    {
      "cell_type": "code",
      "metadata": {
        "id": "MetOj8bJsg_j"
      },
      "source": [
        "# 16) Lebanon v/s Grantham v/s Sunapee city’s average price per square feet\n",
        "fig=plt.figure()\n",
        "ax=fig.add_axes([0.1,0.1,0.8,0.8]) #here it's use to set figure axis add_axes(x0,y0,height,width) plt.xticks(rotation=80)\n",
        "plt.title(\"Lebanon Vs Grantham vs Sunapee\") \n",
        "plt.plot(x2,y2)\n",
        "plt.scatter(x2,y2)\n",
        "plt.plot(x3,y3)\n",
        "plt.scatter(x3,y3)\n",
        "plt.plot(x4,y4)\n",
        "plt.scatter(x4,y4)\n",
        "plt.legend(labels=['Lebanon','Grantham','Sunapee']) \n",
        "ax.set_ylim(ymin=10)\n",
        "plt.xlabel(\"years\")\n",
        "plt.ylabel(\"per square\") \n",
        "plt.show()\n"
      ],
      "execution_count": null,
      "outputs": []
    },
    {
      "cell_type": "code",
      "metadata": {
        "id": "8826JLtMBfnV"
      },
      "source": [
        "# 16) Enfield v/s Hanover v/s Hartford city’s price per square feet\n",
        "fig=plt.figure()\n",
        "ax=fig.add_axes([0.1,0.1,0.8,0.8]) #here it's use to set figure axis add_axes(x0,y0,height,width) plt.xticks(rotation=80)\n",
        "plt.title(\"Enfield Vs Hanover vs Hartford\") \n",
        "plt.plot(x1,y1)\n",
        "plt.scatter(x1,y1)\n",
        "plt.plot(x0,y0)\n",
        "plt.scatter(x0,y0)\n",
        "plt.plot(x5,y5)\n",
        "plt.scatter(x5,y5)\n",
        "plt.legend(labels=['Enfield','Hanover','Hartford']) \n",
        "ax.set_ylim(ymin=10)\n",
        "plt.xlabel(\"years\")\n",
        "plt.ylabel(\"per square\") \n",
        "plt.show()\n"
      ],
      "execution_count": null,
      "outputs": []
    },
    {
      "cell_type": "code",
      "metadata": {
        "id": "NlG-xXaVC0i9"
      },
      "source": [
        "# 17) All six city’s average price per square feet\n",
        "fig=plt.figure()\n",
        "ax=fig.add_axes([0.1,0.1,0.8,0.8]) #here it's use to set figure axis add_axes(x0,y0,height,width) plt.xticks(rotation=80)\n",
        "plt.title(\"All six City Average price per sqft\") \n",
        "plt.plot(x1,y1)\n",
        "plt.scatter(x1,y1)\n",
        "plt.plot(x0,y0)\n",
        "plt.scatter(x0,y0)\n",
        "plt.plot(x5,y5)\n",
        "plt.scatter(x5,y5)\n",
        "plt.plot(x2,y2)\n",
        "plt.scatter(x2,y2)\n",
        "plt.plot(x3,y3)\n",
        "plt.scatter(x3,y3)\n",
        "plt.plot(x4,y4)\n",
        "plt.scatter(x4,y4)\n",
        "plt.legend(labels=['Enfield','Hanover','Hartford','Lebanon','Grantham','Sunapee']) \n",
        "ax.set_ylim(ymin=10)\n",
        "plt.xlabel(\"years\")\n",
        "plt.ylabel(\"per square\") \n",
        "plt.show()"
      ],
      "execution_count": null,
      "outputs": []
    },
    {
      "cell_type": "code",
      "metadata": {
        "id": "wbLBQNBsEEMf"
      },
      "source": [
        ""
      ],
      "execution_count": null,
      "outputs": []
    },
    {
      "cell_type": "code",
      "metadata": {
        "id": "rJMzW2OrHNVr"
      },
      "source": [
        "# 6) Which city has how many property for buy or sell"
      ],
      "execution_count": null,
      "outputs": []
    },
    {
      "cell_type": "code",
      "metadata": {
        "id": "eQ7H1hLGHNYL"
      },
      "source": [
        "dd = data.pivot_table(columns='City',aggfunc='size')\n",
        "a = dd.sort_values(ascending=False)\n",
        "a.to_frame()\n",
        "a.index\n",
        "\n"
      ],
      "execution_count": null,
      "outputs": []
    },
    {
      "cell_type": "code",
      "metadata": {
        "id": "UhQg5uvFNtDS"
      },
      "source": [
        "a.values"
      ],
      "execution_count": null,
      "outputs": []
    },
    {
      "cell_type": "code",
      "metadata": {
        "id": "0M9EwkCHNtJI"
      },
      "source": [
        "a.index"
      ],
      "execution_count": null,
      "outputs": []
    },
    {
      "cell_type": "code",
      "metadata": {
        "id": "S9pe_K1YOCF1"
      },
      "source": [
        ""
      ],
      "execution_count": null,
      "outputs": []
    },
    {
      "cell_type": "code",
      "metadata": {
        "id": "Wt9mjb-tHiY8"
      },
      "source": [
        "x = []\n",
        "a.values\n",
        "x.append(a.values)"
      ],
      "execution_count": null,
      "outputs": []
    },
    {
      "cell_type": "code",
      "metadata": {
        "id": "SsgDxRwnNg8F"
      },
      "source": [
        "x = [916, 850, 569, 547, 499, 348, 339, 228, 190, 151, 135, 132, 132,\n",
        "       103, 103,  93,  89,  89,  88,  76,  76,  67,  61,  49,  45,  44]\n",
        "mylabels = ['Hartford', 'Lebanon', 'Ludlow', 'Hanover', 'Grantham', 'Sunapee',\n",
        "       'Enfield', 'Norwich', 'Canaan', 'Windsor', 'Hartland', 'Weathersfield',\n",
        "       'West Windsor', 'Cornish', 'Plymouth', 'Lyme', 'Cavendish', 'Bethel',\n",
        "       'Plainfield', 'Rochester', 'Royalton', 'Orford', 'Sharon', 'Croydon',\n",
        "       'Strafford', 'Stockbridge']"
      ],
      "execution_count": null,
      "outputs": []
    },
    {
      "cell_type": "code",
      "metadata": {
        "id": "PlVsQH28KXKQ"
      },
      "source": [
        "plt.figure(figsize=(10,10))\n",
        "plt.pie(x,labels=mylabels,autopct='%1.2f%%')\n",
        "plt.show()"
      ],
      "execution_count": null,
      "outputs": []
    },
    {
      "cell_type": "code",
      "metadata": {
        "id": "1b2ggr9aKxf3"
      },
      "source": [
        ""
      ],
      "execution_count": null,
      "outputs": []
    },
    {
      "cell_type": "code",
      "metadata": {
        "id": "nmbUhHPbu8em"
      },
      "source": [
        ""
      ],
      "execution_count": null,
      "outputs": []
    }
  ]
}